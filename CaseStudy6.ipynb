{
 "cells": [
  {
   "cell_type": "code",
   "execution_count": 27,
   "metadata": {
    "collapsed": true
   },
   "outputs": [],
   "source": [
    " URL <- \"http://rdatasciencecases.org/Data/offline.final.trace.txt\"\n",
    " download.file(url=URL,destfile = \"offlineFinalTrace.txt\")"
   ]
  },
  {
   "cell_type": "code",
   "execution_count": 28,
   "metadata": {
    "collapsed": true
   },
   "outputs": [],
   "source": [
    "options(digits = 3)\n",
    "# Read in the data\n",
    "txt = readLines(\"offlineFinalTrace.txt\")"
   ]
  },
  {
   "cell_type": "code",
   "execution_count": 29,
   "metadata": {},
   "outputs": [
    {
     "data": {
      "text/html": [
       "5312"
      ],
      "text/latex": [
       "5312"
      ],
      "text/markdown": [
       "5312"
      ],
      "text/plain": [
       "[1] 5312"
      ]
     },
     "metadata": {},
     "output_type": "display_data"
    },
    {
     "data": {
      "text/html": [
       "151392"
      ],
      "text/latex": [
       "151392"
      ],
      "text/markdown": [
       "151392"
      ],
      "text/plain": [
       "[1] 151392"
      ]
     },
     "metadata": {},
     "output_type": "display_data"
    },
    {
     "data": {
      "text/html": [
       "<ol class=list-inline>\n",
       "\t<li>'t=1139643118358'</li>\n",
       "\t<li>'id=00:02:2D:21:0F:33'</li>\n",
       "\t<li>'pos=0.0,0.0,0.0'</li>\n",
       "\t<li>'degree=0.0'</li>\n",
       "\t<li>'00:14:bf:b1:97:8a=-38,2437000000,3'</li>\n",
       "\t<li>'00:14:bf:b1:97:90=-56,2427000000,3'</li>\n",
       "\t<li>'00:0f:a3:39:e1:c0=-53,2462000000,3'</li>\n",
       "\t<li>'00:14:bf:b1:97:8d=-65,2442000000,3'</li>\n",
       "\t<li>'00:14:bf:b1:97:81=-65,2422000000,3'</li>\n",
       "\t<li>'00:14:bf:3b:c7:c6=-66,2432000000,3'</li>\n",
       "\t<li>'00:0f:a3:39:dd:cd=-75,2412000000,3'</li>\n",
       "\t<li>'00:0f:a3:39:e0:4b=-78,2462000000,3'</li>\n",
       "\t<li>'00:0f:a3:39:e2:10=-87,2437000000,3'</li>\n",
       "\t<li>'02:64:fb:68:52:e6=-88,2447000000,1'</li>\n",
       "\t<li>'02:00:42:55:31:00=-84,2457000000,1'</li>\n",
       "</ol>\n"
      ],
      "text/latex": [
       "\\begin{enumerate*}\n",
       "\\item 't=1139643118358'\n",
       "\\item 'id=00:02:2D:21:0F:33'\n",
       "\\item 'pos=0.0,0.0,0.0'\n",
       "\\item 'degree=0.0'\n",
       "\\item '00:14:bf:b1:97:8a=-38,2437000000,3'\n",
       "\\item '00:14:bf:b1:97:90=-56,2427000000,3'\n",
       "\\item '00:0f:a3:39:e1:c0=-53,2462000000,3'\n",
       "\\item '00:14:bf:b1:97:8d=-65,2442000000,3'\n",
       "\\item '00:14:bf:b1:97:81=-65,2422000000,3'\n",
       "\\item '00:14:bf:3b:c7:c6=-66,2432000000,3'\n",
       "\\item '00:0f:a3:39:dd:cd=-75,2412000000,3'\n",
       "\\item '00:0f:a3:39:e0:4b=-78,2462000000,3'\n",
       "\\item '00:0f:a3:39:e2:10=-87,2437000000,3'\n",
       "\\item '02:64:fb:68:52:e6=-88,2447000000,1'\n",
       "\\item '02:00:42:55:31:00=-84,2457000000,1'\n",
       "\\end{enumerate*}\n"
      ],
      "text/markdown": [
       "1. 't=1139643118358'\n",
       "2. 'id=00:02:2D:21:0F:33'\n",
       "3. 'pos=0.0,0.0,0.0'\n",
       "4. 'degree=0.0'\n",
       "5. '00:14:bf:b1:97:8a=-38,2437000000,3'\n",
       "6. '00:14:bf:b1:97:90=-56,2427000000,3'\n",
       "7. '00:0f:a3:39:e1:c0=-53,2462000000,3'\n",
       "8. '00:14:bf:b1:97:8d=-65,2442000000,3'\n",
       "9. '00:14:bf:b1:97:81=-65,2422000000,3'\n",
       "10. '00:14:bf:3b:c7:c6=-66,2432000000,3'\n",
       "11. '00:0f:a3:39:dd:cd=-75,2412000000,3'\n",
       "12. '00:0f:a3:39:e0:4b=-78,2462000000,3'\n",
       "13. '00:0f:a3:39:e2:10=-87,2437000000,3'\n",
       "14. '02:64:fb:68:52:e6=-88,2447000000,1'\n",
       "15. '02:00:42:55:31:00=-84,2457000000,1'\n",
       "\n",
       "\n"
      ],
      "text/plain": [
       " [1] \"t=1139643118358\"                    \"id=00:02:2D:21:0F:33\"              \n",
       " [3] \"pos=0.0,0.0,0.0\"                    \"degree=0.0\"                        \n",
       " [5] \"00:14:bf:b1:97:8a=-38,2437000000,3\" \"00:14:bf:b1:97:90=-56,2427000000,3\"\n",
       " [7] \"00:0f:a3:39:e1:c0=-53,2462000000,3\" \"00:14:bf:b1:97:8d=-65,2442000000,3\"\n",
       " [9] \"00:14:bf:b1:97:81=-65,2422000000,3\" \"00:14:bf:3b:c7:c6=-66,2432000000,3\"\n",
       "[11] \"00:0f:a3:39:dd:cd=-75,2412000000,3\" \"00:0f:a3:39:e0:4b=-78,2462000000,3\"\n",
       "[13] \"00:0f:a3:39:e2:10=-87,2437000000,3\" \"02:64:fb:68:52:e6=-88,2447000000,1\"\n",
       "[15] \"02:00:42:55:31:00=-84,2457000000,1\""
      ]
     },
     "metadata": {},
     "output_type": "display_data"
    }
   ],
   "source": [
    "sum(substr(txt, 1, 1) == \"#\")\n",
    "length(txt)\n",
    "strsplit(txt[4], \";\")[[1]] # Examine structure the first data line"
   ]
  },
  {
   "cell_type": "code",
   "execution_count": 4,
   "metadata": {},
   "outputs": [
    {
     "data": {
      "text/html": [
       "<ol class=list-inline>\n",
       "\t<li>'t'</li>\n",
       "\t<li>'1139643118358'</li>\n",
       "\t<li>'id'</li>\n",
       "\t<li>'00:02:2D:21:0F:33'</li>\n",
       "\t<li>'pos'</li>\n",
       "\t<li>'0.0'</li>\n",
       "\t<li>'0.0'</li>\n",
       "\t<li>'0.0'</li>\n",
       "\t<li>'degree'</li>\n",
       "\t<li>'0.0'</li>\n",
       "</ol>\n"
      ],
      "text/latex": [
       "\\begin{enumerate*}\n",
       "\\item 't'\n",
       "\\item '1139643118358'\n",
       "\\item 'id'\n",
       "\\item '00:02:2D:21:0F:33'\n",
       "\\item 'pos'\n",
       "\\item '0.0'\n",
       "\\item '0.0'\n",
       "\\item '0.0'\n",
       "\\item 'degree'\n",
       "\\item '0.0'\n",
       "\\end{enumerate*}\n"
      ],
      "text/markdown": [
       "1. 't'\n",
       "2. '1139643118358'\n",
       "3. 'id'\n",
       "4. '00:02:2D:21:0F:33'\n",
       "5. 'pos'\n",
       "6. '0.0'\n",
       "7. '0.0'\n",
       "8. '0.0'\n",
       "9. 'degree'\n",
       "10. '0.0'\n",
       "\n",
       "\n"
      ],
      "text/plain": [
       " [1] \"t\"                 \"1139643118358\"     \"id\"               \n",
       " [4] \"00:02:2D:21:0F:33\" \"pos\"               \"0.0\"              \n",
       " [7] \"0.0\"               \"0.0\"               \"degree\"           \n",
       "[10] \"0.0\"              "
      ]
     },
     "metadata": {},
     "output_type": "display_data"
    },
    {
     "data": {
      "text/html": [
       "<ol class=list-inline>\n",
       "\t<li>'1139643118358'</li>\n",
       "\t<li>'00:02:2D:21:0F:33'</li>\n",
       "\t<li>'0.0'</li>\n",
       "\t<li>'0.0'</li>\n",
       "\t<li>'0.0'</li>\n",
       "\t<li>'0.0'</li>\n",
       "</ol>\n"
      ],
      "text/latex": [
       "\\begin{enumerate*}\n",
       "\\item '1139643118358'\n",
       "\\item '00:02:2D:21:0F:33'\n",
       "\\item '0.0'\n",
       "\\item '0.0'\n",
       "\\item '0.0'\n",
       "\\item '0.0'\n",
       "\\end{enumerate*}\n"
      ],
      "text/markdown": [
       "1. '1139643118358'\n",
       "2. '00:02:2D:21:0F:33'\n",
       "3. '0.0'\n",
       "4. '0.0'\n",
       "5. '0.0'\n",
       "6. '0.0'\n",
       "\n",
       "\n"
      ],
      "text/plain": [
       "[1] \"1139643118358\"     \"00:02:2D:21:0F:33\" \"0.0\"              \n",
       "[4] \"0.0\"               \"0.0\"               \"0.0\"              "
      ]
     },
     "metadata": {},
     "output_type": "display_data"
    },
    {
     "data": {
      "text/html": [
       "<ol class=list-inline>\n",
       "\t<li>'00:14:bf:b1:97:8a'</li>\n",
       "\t<li>'-38'</li>\n",
       "\t<li>'2437000000'</li>\n",
       "\t<li>'3'</li>\n",
       "\t<li>'00:14:bf:b1:97:90'</li>\n",
       "\t<li>'-56'</li>\n",
       "\t<li>'2427000000'</li>\n",
       "\t<li>'3'</li>\n",
       "\t<li>'00:0f:a3:39:e1:c0'</li>\n",
       "\t<li>'-53'</li>\n",
       "\t<li>'2462000000'</li>\n",
       "\t<li>'3'</li>\n",
       "\t<li>'00:14:bf:b1:97:8d'</li>\n",
       "\t<li>'-65'</li>\n",
       "\t<li>'2442000000'</li>\n",
       "\t<li>'3'</li>\n",
       "\t<li>'00:14:bf:b1:97:81'</li>\n",
       "\t<li>'-65'</li>\n",
       "\t<li>'2422000000'</li>\n",
       "\t<li>'3'</li>\n",
       "\t<li>'00:14:bf:3b:c7:c6'</li>\n",
       "\t<li>'-66'</li>\n",
       "\t<li>'2432000000'</li>\n",
       "\t<li>'3'</li>\n",
       "\t<li>'00:0f:a3:39:dd:cd'</li>\n",
       "\t<li>'-75'</li>\n",
       "\t<li>'2412000000'</li>\n",
       "\t<li>'3'</li>\n",
       "\t<li>'00:0f:a3:39:e0:4b'</li>\n",
       "\t<li>'-78'</li>\n",
       "\t<li>'2462000000'</li>\n",
       "\t<li>'3'</li>\n",
       "\t<li>'00:0f:a3:39:e2:10'</li>\n",
       "\t<li>'-87'</li>\n",
       "\t<li>'2437000000'</li>\n",
       "\t<li>'3'</li>\n",
       "\t<li>'02:64:fb:68:52:e6'</li>\n",
       "\t<li>'-88'</li>\n",
       "\t<li>'2447000000'</li>\n",
       "\t<li>'1'</li>\n",
       "\t<li>'02:00:42:55:31:00'</li>\n",
       "\t<li>'-84'</li>\n",
       "\t<li>'2457000000'</li>\n",
       "\t<li>'1'</li>\n",
       "</ol>\n"
      ],
      "text/latex": [
       "\\begin{enumerate*}\n",
       "\\item '00:14:bf:b1:97:8a'\n",
       "\\item '-38'\n",
       "\\item '2437000000'\n",
       "\\item '3'\n",
       "\\item '00:14:bf:b1:97:90'\n",
       "\\item '-56'\n",
       "\\item '2427000000'\n",
       "\\item '3'\n",
       "\\item '00:0f:a3:39:e1:c0'\n",
       "\\item '-53'\n",
       "\\item '2462000000'\n",
       "\\item '3'\n",
       "\\item '00:14:bf:b1:97:8d'\n",
       "\\item '-65'\n",
       "\\item '2442000000'\n",
       "\\item '3'\n",
       "\\item '00:14:bf:b1:97:81'\n",
       "\\item '-65'\n",
       "\\item '2422000000'\n",
       "\\item '3'\n",
       "\\item '00:14:bf:3b:c7:c6'\n",
       "\\item '-66'\n",
       "\\item '2432000000'\n",
       "\\item '3'\n",
       "\\item '00:0f:a3:39:dd:cd'\n",
       "\\item '-75'\n",
       "\\item '2412000000'\n",
       "\\item '3'\n",
       "\\item '00:0f:a3:39:e0:4b'\n",
       "\\item '-78'\n",
       "\\item '2462000000'\n",
       "\\item '3'\n",
       "\\item '00:0f:a3:39:e2:10'\n",
       "\\item '-87'\n",
       "\\item '2437000000'\n",
       "\\item '3'\n",
       "\\item '02:64:fb:68:52:e6'\n",
       "\\item '-88'\n",
       "\\item '2447000000'\n",
       "\\item '1'\n",
       "\\item '02:00:42:55:31:00'\n",
       "\\item '-84'\n",
       "\\item '2457000000'\n",
       "\\item '1'\n",
       "\\end{enumerate*}\n"
      ],
      "text/markdown": [
       "1. '00:14:bf:b1:97:8a'\n",
       "2. '-38'\n",
       "3. '2437000000'\n",
       "4. '3'\n",
       "5. '00:14:bf:b1:97:90'\n",
       "6. '-56'\n",
       "7. '2427000000'\n",
       "8. '3'\n",
       "9. '00:0f:a3:39:e1:c0'\n",
       "10. '-53'\n",
       "11. '2462000000'\n",
       "12. '3'\n",
       "13. '00:14:bf:b1:97:8d'\n",
       "14. '-65'\n",
       "15. '2442000000'\n",
       "16. '3'\n",
       "17. '00:14:bf:b1:97:81'\n",
       "18. '-65'\n",
       "19. '2422000000'\n",
       "20. '3'\n",
       "21. '00:14:bf:3b:c7:c6'\n",
       "22. '-66'\n",
       "23. '2432000000'\n",
       "24. '3'\n",
       "25. '00:0f:a3:39:dd:cd'\n",
       "26. '-75'\n",
       "27. '2412000000'\n",
       "28. '3'\n",
       "29. '00:0f:a3:39:e0:4b'\n",
       "30. '-78'\n",
       "31. '2462000000'\n",
       "32. '3'\n",
       "33. '00:0f:a3:39:e2:10'\n",
       "34. '-87'\n",
       "35. '2437000000'\n",
       "36. '3'\n",
       "37. '02:64:fb:68:52:e6'\n",
       "38. '-88'\n",
       "39. '2447000000'\n",
       "40. '1'\n",
       "41. '02:00:42:55:31:00'\n",
       "42. '-84'\n",
       "43. '2457000000'\n",
       "44. '1'\n",
       "\n",
       "\n"
      ],
      "text/plain": [
       " [1] \"00:14:bf:b1:97:8a\" \"-38\"               \"2437000000\"       \n",
       " [4] \"3\"                 \"00:14:bf:b1:97:90\" \"-56\"              \n",
       " [7] \"2427000000\"        \"3\"                 \"00:0f:a3:39:e1:c0\"\n",
       "[10] \"-53\"               \"2462000000\"        \"3\"                \n",
       "[13] \"00:14:bf:b1:97:8d\" \"-65\"               \"2442000000\"       \n",
       "[16] \"3\"                 \"00:14:bf:b1:97:81\" \"-65\"              \n",
       "[19] \"2422000000\"        \"3\"                 \"00:14:bf:3b:c7:c6\"\n",
       "[22] \"-66\"               \"2432000000\"        \"3\"                \n",
       "[25] \"00:0f:a3:39:dd:cd\" \"-75\"               \"2412000000\"       \n",
       "[28] \"3\"                 \"00:0f:a3:39:e0:4b\" \"-78\"              \n",
       "[31] \"2462000000\"        \"3\"                 \"00:0f:a3:39:e2:10\"\n",
       "[34] \"-87\"               \"2437000000\"        \"3\"                \n",
       "[37] \"02:64:fb:68:52:e6\" \"-88\"               \"2447000000\"       \n",
       "[40] \"1\"                 \"02:00:42:55:31:00\" \"-84\"              \n",
       "[43] \"2457000000\"        \"1\"                "
      ]
     },
     "metadata": {},
     "output_type": "display_data"
    }
   ],
   "source": [
    "tokens = strsplit(txt[4], \"[;=,]\")[[1]] #split at a ; = or , character\n",
    "tokens[1:10] # information about the handheld device\n",
    "tokens[c(2, 4, 6:8, 10)] # extract the values of these variables\n",
    "tokens[ - ( 1:10 ) ] # recorded signals within this observation\n",
    "tmp = matrix(tokens[ - (1:10) ], ncol = 4, byrow = TRUE)"
   ]
  },
  {
   "cell_type": "code",
   "execution_count": 30,
   "metadata": {},
   "outputs": [
    {
     "ename": "ERROR",
     "evalue": "Error in matrix(tokens[c(2, 4, 6:8, 10)], nrow = nrow(tmp), ncol = 6, : non-numeric matrix extent\n",
     "output_type": "error",
     "traceback": [
      "Error in matrix(tokens[c(2, 4, 6:8, 10)], nrow = nrow(tmp), ncol = 6, : non-numeric matrix extent\nTraceback:\n",
      "1. cbind(matrix(tokens[c(2, 4, 6:8, 10)], nrow = nrow(tmp), ncol = 6, \n .     byrow = TRUE), tmp)",
      "2. matrix(tokens[c(2, 4, 6:8, 10)], nrow = nrow(tmp), ncol = 6, \n .     byrow = TRUE)"
     ]
    }
   ],
   "source": [
    "# Build a matrix from the recorded signals\n",
    "mat = cbind(matrix(tokens[c(2, 4, 6:8, 10)], nrow = nrow(tmp),\n",
    "                   ncol = 6, byrow = TRUE), \n",
    "            tmp)\n",
    "\n",
    "dim(mat) # confirm dimension of the matrix"
   ]
  },
  {
   "cell_type": "code",
   "execution_count": 6,
   "metadata": {},
   "outputs": [
    {
     "data": {
      "text/html": [
       "<table>\n",
       "<tbody>\n",
       "\t<tr><td>1139643118358    </td><td>00:02:2D:21:0F:33</td><td>0.0              </td><td>0.0              </td><td>0.0              </td><td>0.0              </td><td>00:14:bf:b1:97:8a</td><td>-38              </td><td>2437000000       </td><td>3                </td></tr>\n",
       "\t<tr><td>1139643118358    </td><td>00:02:2D:21:0F:33</td><td>0.0              </td><td>0.0              </td><td>0.0              </td><td>0.0              </td><td>00:14:bf:b1:97:90</td><td>-56              </td><td>2427000000       </td><td>3                </td></tr>\n",
       "\t<tr><td>1139643118358    </td><td>00:02:2D:21:0F:33</td><td>0.0              </td><td>0.0              </td><td>0.0              </td><td>0.0              </td><td>00:0f:a3:39:e1:c0</td><td>-53              </td><td>2462000000       </td><td>3                </td></tr>\n",
       "\t<tr><td>1139643118358    </td><td>00:02:2D:21:0F:33</td><td>0.0              </td><td>0.0              </td><td>0.0              </td><td>0.0              </td><td>00:14:bf:b1:97:8d</td><td>-65              </td><td>2442000000       </td><td>3                </td></tr>\n",
       "\t<tr><td>1139643118358    </td><td>00:02:2D:21:0F:33</td><td>0.0              </td><td>0.0              </td><td>0.0              </td><td>0.0              </td><td>00:14:bf:b1:97:81</td><td>-65              </td><td>2422000000       </td><td>3                </td></tr>\n",
       "\t<tr><td>1139643118358    </td><td>00:02:2D:21:0F:33</td><td>0.0              </td><td>0.0              </td><td>0.0              </td><td>0.0              </td><td>00:14:bf:3b:c7:c6</td><td>-66              </td><td>2432000000       </td><td>3                </td></tr>\n",
       "\t<tr><td>1139643118358    </td><td>00:02:2D:21:0F:33</td><td>0.0              </td><td>0.0              </td><td>0.0              </td><td>0.0              </td><td>00:0f:a3:39:dd:cd</td><td>-75              </td><td>2412000000       </td><td>3                </td></tr>\n",
       "\t<tr><td>1139643118358    </td><td>00:02:2D:21:0F:33</td><td>0.0              </td><td>0.0              </td><td>0.0              </td><td>0.0              </td><td>00:0f:a3:39:e0:4b</td><td>-78              </td><td>2462000000       </td><td>3                </td></tr>\n",
       "\t<tr><td>1139643118358    </td><td>00:02:2D:21:0F:33</td><td>0.0              </td><td>0.0              </td><td>0.0              </td><td>0.0              </td><td>00:0f:a3:39:e2:10</td><td>-87              </td><td>2437000000       </td><td>3                </td></tr>\n",
       "\t<tr><td>1139643118358    </td><td>00:02:2D:21:0F:33</td><td>0.0              </td><td>0.0              </td><td>0.0              </td><td>0.0              </td><td>02:64:fb:68:52:e6</td><td>-88              </td><td>2447000000       </td><td>1                </td></tr>\n",
       "\t<tr><td>1139643118358    </td><td>00:02:2D:21:0F:33</td><td>0.0              </td><td>0.0              </td><td>0.0              </td><td>0.0              </td><td>02:00:42:55:31:00</td><td>-84              </td><td>2457000000       </td><td>1                </td></tr>\n",
       "</tbody>\n",
       "</table>\n"
      ],
      "text/latex": [
       "\\begin{tabular}{llllllllll}\n",
       "\t 1139643118358     & 00:02:2D:21:0F:33 & 0.0               & 0.0               & 0.0               & 0.0               & 00:14:bf:b1:97:8a & -38               & 2437000000        & 3                \\\\\n",
       "\t 1139643118358     & 00:02:2D:21:0F:33 & 0.0               & 0.0               & 0.0               & 0.0               & 00:14:bf:b1:97:90 & -56               & 2427000000        & 3                \\\\\n",
       "\t 1139643118358     & 00:02:2D:21:0F:33 & 0.0               & 0.0               & 0.0               & 0.0               & 00:0f:a3:39:e1:c0 & -53               & 2462000000        & 3                \\\\\n",
       "\t 1139643118358     & 00:02:2D:21:0F:33 & 0.0               & 0.0               & 0.0               & 0.0               & 00:14:bf:b1:97:8d & -65               & 2442000000        & 3                \\\\\n",
       "\t 1139643118358     & 00:02:2D:21:0F:33 & 0.0               & 0.0               & 0.0               & 0.0               & 00:14:bf:b1:97:81 & -65               & 2422000000        & 3                \\\\\n",
       "\t 1139643118358     & 00:02:2D:21:0F:33 & 0.0               & 0.0               & 0.0               & 0.0               & 00:14:bf:3b:c7:c6 & -66               & 2432000000        & 3                \\\\\n",
       "\t 1139643118358     & 00:02:2D:21:0F:33 & 0.0               & 0.0               & 0.0               & 0.0               & 00:0f:a3:39:dd:cd & -75               & 2412000000        & 3                \\\\\n",
       "\t 1139643118358     & 00:02:2D:21:0F:33 & 0.0               & 0.0               & 0.0               & 0.0               & 00:0f:a3:39:e0:4b & -78               & 2462000000        & 3                \\\\\n",
       "\t 1139643118358     & 00:02:2D:21:0F:33 & 0.0               & 0.0               & 0.0               & 0.0               & 00:0f:a3:39:e2:10 & -87               & 2437000000        & 3                \\\\\n",
       "\t 1139643118358     & 00:02:2D:21:0F:33 & 0.0               & 0.0               & 0.0               & 0.0               & 02:64:fb:68:52:e6 & -88               & 2447000000        & 1                \\\\\n",
       "\t 1139643118358     & 00:02:2D:21:0F:33 & 0.0               & 0.0               & 0.0               & 0.0               & 02:00:42:55:31:00 & -84               & 2457000000        & 1                \\\\\n",
       "\\end{tabular}\n"
      ],
      "text/markdown": [
       "\n",
       "| 1139643118358     | 00:02:2D:21:0F:33 | 0.0               | 0.0               | 0.0               | 0.0               | 00:14:bf:b1:97:8a | -38               | 2437000000        | 3                 | \n",
       "| 1139643118358     | 00:02:2D:21:0F:33 | 0.0               | 0.0               | 0.0               | 0.0               | 00:14:bf:b1:97:90 | -56               | 2427000000        | 3                 | \n",
       "| 1139643118358     | 00:02:2D:21:0F:33 | 0.0               | 0.0               | 0.0               | 0.0               | 00:0f:a3:39:e1:c0 | -53               | 2462000000        | 3                 | \n",
       "| 1139643118358     | 00:02:2D:21:0F:33 | 0.0               | 0.0               | 0.0               | 0.0               | 00:14:bf:b1:97:8d | -65               | 2442000000        | 3                 | \n",
       "| 1139643118358     | 00:02:2D:21:0F:33 | 0.0               | 0.0               | 0.0               | 0.0               | 00:14:bf:b1:97:81 | -65               | 2422000000        | 3                 | \n",
       "| 1139643118358     | 00:02:2D:21:0F:33 | 0.0               | 0.0               | 0.0               | 0.0               | 00:14:bf:3b:c7:c6 | -66               | 2432000000        | 3                 | \n",
       "| 1139643118358     | 00:02:2D:21:0F:33 | 0.0               | 0.0               | 0.0               | 0.0               | 00:0f:a3:39:dd:cd | -75               | 2412000000        | 3                 | \n",
       "| 1139643118358     | 00:02:2D:21:0F:33 | 0.0               | 0.0               | 0.0               | 0.0               | 00:0f:a3:39:e0:4b | -78               | 2462000000        | 3                 | \n",
       "| 1139643118358     | 00:02:2D:21:0F:33 | 0.0               | 0.0               | 0.0               | 0.0               | 00:0f:a3:39:e2:10 | -87               | 2437000000        | 3                 | \n",
       "| 1139643118358     | 00:02:2D:21:0F:33 | 0.0               | 0.0               | 0.0               | 0.0               | 02:64:fb:68:52:e6 | -88               | 2447000000        | 1                 | \n",
       "| 1139643118358     | 00:02:2D:21:0F:33 | 0.0               | 0.0               | 0.0               | 0.0               | 02:00:42:55:31:00 | -84               | 2457000000        | 1                 | \n",
       "\n",
       "\n"
      ],
      "text/plain": [
       "      [,1]          [,2]              [,3] [,4] [,5] [,6] [,7]             \n",
       " [1,] 1139643118358 00:02:2D:21:0F:33 0.0  0.0  0.0  0.0  00:14:bf:b1:97:8a\n",
       " [2,] 1139643118358 00:02:2D:21:0F:33 0.0  0.0  0.0  0.0  00:14:bf:b1:97:90\n",
       " [3,] 1139643118358 00:02:2D:21:0F:33 0.0  0.0  0.0  0.0  00:0f:a3:39:e1:c0\n",
       " [4,] 1139643118358 00:02:2D:21:0F:33 0.0  0.0  0.0  0.0  00:14:bf:b1:97:8d\n",
       " [5,] 1139643118358 00:02:2D:21:0F:33 0.0  0.0  0.0  0.0  00:14:bf:b1:97:81\n",
       " [6,] 1139643118358 00:02:2D:21:0F:33 0.0  0.0  0.0  0.0  00:14:bf:3b:c7:c6\n",
       " [7,] 1139643118358 00:02:2D:21:0F:33 0.0  0.0  0.0  0.0  00:0f:a3:39:dd:cd\n",
       " [8,] 1139643118358 00:02:2D:21:0F:33 0.0  0.0  0.0  0.0  00:0f:a3:39:e0:4b\n",
       " [9,] 1139643118358 00:02:2D:21:0F:33 0.0  0.0  0.0  0.0  00:0f:a3:39:e2:10\n",
       "[10,] 1139643118358 00:02:2D:21:0F:33 0.0  0.0  0.0  0.0  02:64:fb:68:52:e6\n",
       "[11,] 1139643118358 00:02:2D:21:0F:33 0.0  0.0  0.0  0.0  02:00:42:55:31:00\n",
       "      [,8] [,9]       [,10]\n",
       " [1,] -38  2437000000 3    \n",
       " [2,] -56  2427000000 3    \n",
       " [3,] -53  2462000000 3    \n",
       " [4,] -65  2442000000 3    \n",
       " [5,] -65  2422000000 3    \n",
       " [6,] -66  2432000000 3    \n",
       " [7,] -75  2412000000 3    \n",
       " [8,] -78  2462000000 3    \n",
       " [9,] -87  2437000000 3    \n",
       "[10,] -88  2447000000 1    \n",
       "[11,] -84  2457000000 1    "
      ]
     },
     "metadata": {},
     "output_type": "display_data"
    }
   ],
   "source": [
    "mat"
   ]
  },
  {
   "cell_type": "code",
   "execution_count": null,
   "metadata": {
    "collapsed": true
   },
   "outputs": [],
   "source": [
    "processLine =\n",
    "  function(x)\n",
    "  {\n",
    "    tokens = strsplit(x, \"[;=,]\")[[1]]\n",
    "    tmp = matrix(tokens[ - (1:10) ], ncol = 4, byrow = TRUE)\n",
    "    cbind(matrix(tokens[c(2, 4, 6:8, 10)], nrow = nrow(tmp),\n",
    "                 ncol = 6, byrow = TRUE), tmp)\n",
    "  }"
   ]
  },
  {
   "cell_type": "code",
   "execution_count": 8,
   "metadata": {},
   "outputs": [
    {
     "data": {
      "text/html": [
       "<ol class=list-inline>\n",
       "\t<li>11</li>\n",
       "\t<li>10</li>\n",
       "\t<li>10</li>\n",
       "\t<li>11</li>\n",
       "\t<li>9</li>\n",
       "\t<li>10</li>\n",
       "\t<li>9</li>\n",
       "\t<li>9</li>\n",
       "\t<li>10</li>\n",
       "\t<li>11</li>\n",
       "\t<li>11</li>\n",
       "\t<li>9</li>\n",
       "\t<li>9</li>\n",
       "\t<li>9</li>\n",
       "\t<li>8</li>\n",
       "\t<li>10</li>\n",
       "\t<li>14</li>\n",
       "</ol>\n"
      ],
      "text/latex": [
       "\\begin{enumerate*}\n",
       "\\item 11\n",
       "\\item 10\n",
       "\\item 10\n",
       "\\item 11\n",
       "\\item 9\n",
       "\\item 10\n",
       "\\item 9\n",
       "\\item 9\n",
       "\\item 10\n",
       "\\item 11\n",
       "\\item 11\n",
       "\\item 9\n",
       "\\item 9\n",
       "\\item 9\n",
       "\\item 8\n",
       "\\item 10\n",
       "\\item 14\n",
       "\\end{enumerate*}\n"
      ],
      "text/markdown": [
       "1. 11\n",
       "2. 10\n",
       "3. 10\n",
       "4. 11\n",
       "5. 9\n",
       "6. 10\n",
       "7. 9\n",
       "8. 9\n",
       "9. 10\n",
       "10. 11\n",
       "11. 11\n",
       "12. 9\n",
       "13. 9\n",
       "14. 9\n",
       "15. 8\n",
       "16. 10\n",
       "17. 14\n",
       "\n",
       "\n"
      ],
      "text/plain": [
       " [1] 11 10 10 11  9 10  9  9 10 11 11  9  9  9  8 10 14"
      ]
     },
     "metadata": {},
     "output_type": "display_data"
    },
    {
     "data": {
      "text/html": [
       "<ol class=list-inline>\n",
       "\t<li>170</li>\n",
       "\t<li>10</li>\n",
       "</ol>\n"
      ],
      "text/latex": [
       "\\begin{enumerate*}\n",
       "\\item 170\n",
       "\\item 10\n",
       "\\end{enumerate*}\n"
      ],
      "text/markdown": [
       "1. 170\n",
       "2. 10\n",
       "\n",
       "\n"
      ],
      "text/plain": [
       "[1] 170  10"
      ]
     },
     "metadata": {},
     "output_type": "display_data"
    },
    {
     "name": "stderr",
     "output_type": "stream",
     "text": [
      "Warning message in matrix(tokens[c(2, 4, 6:8, 10)], nrow = nrow(tmp), ncol = 6, :\n",
      "“data length exceeds size of matrix”Warning message in matrix(tokens[c(2, 4, 6:8, 10)], nrow = nrow(tmp), ncol = 6, :\n",
      "“data length exceeds size of matrix”Warning message in matrix(tokens[c(2, 4, 6:8, 10)], nrow = nrow(tmp), ncol = 6, :\n",
      "“data length exceeds size of matrix”Warning message in matrix(tokens[c(2, 4, 6:8, 10)], nrow = nrow(tmp), ncol = 6, :\n",
      "“data length exceeds size of matrix”Warning message in matrix(tokens[c(2, 4, 6:8, 10)], nrow = nrow(tmp), ncol = 6, :\n",
      "“data length exceeds size of matrix”Warning message in matrix(tokens[c(2, 4, 6:8, 10)], nrow = nrow(tmp), ncol = 6, :\n",
      "“data length exceeds size of matrix”"
     ]
    }
   ],
   "source": [
    "tmp = lapply(txt[4:20], processLine) # make sure it works on the first 16 lines\n",
    "sapply(tmp, nrow) # Find the number of records per row\n",
    "\n",
    "# Turn these individual matrices into a single data frame\n",
    "offline = as.data.frame(do.call(\"rbind\", tmp)) # faster than a for loop!\n",
    "dim(offline)\n",
    "# Here we go - reading in some data\n",
    "lines = txt[ substr(txt, 1, 1) != \"#\" ]\n",
    "tmp = lapply(lines, processLine)\n"
   ]
  },
  {
   "cell_type": "code",
   "execution_count": null,
   "metadata": {
    "collapsed": true
   },
   "outputs": [],
   "source": [
    "processLine = function(x)\n",
    "{\n",
    "  tokens = strsplit(x, \"[;=,]\")[[1]]\n",
    "  \n",
    "  if (length(tokens) == 10) \n",
    "  return(NULL)\n",
    "  \n",
    "  tmp = matrix(tokens[ - (1:10) ], , 4, byrow = TRUE)\n",
    "  cbind(matrix(tokens[c(2, 4, 6:8, 10)], nrow(tmp), 6, \n",
    "  byrow = TRUE), tmp)\n",
    "}"
   ]
  },
  {
   "cell_type": "code",
   "execution_count": 31,
   "metadata": {},
   "outputs": [
    {
     "data": {
      "text/html": [
       "<ol class=list-inline>\n",
       "\t<li>1181628</li>\n",
       "\t<li>10</li>\n",
       "</ol>\n"
      ],
      "text/latex": [
       "\\begin{enumerate*}\n",
       "\\item 1181628\n",
       "\\item 10\n",
       "\\end{enumerate*}\n"
      ],
      "text/markdown": [
       "1. 1181628\n",
       "2. 10\n",
       "\n",
       "\n"
      ],
      "text/plain": [
       "[1] 1181628      10"
      ]
     },
     "metadata": {},
     "output_type": "display_data"
    }
   ],
   "source": [
    "options(error = recover, warn = 1) # reset options\n",
    "# Create the new data set\n",
    "tmp = lapply(lines, processLine)\n",
    "offline = as.data.frame(do.call(\"rbind\", tmp), \n",
    "stringsAsFactors = FALSE)\n",
    "dim(offline)"
   ]
  },
  {
   "cell_type": "code",
   "execution_count": 32,
   "metadata": {},
   "outputs": [
    {
     "data": {
      "text/html": [
       "<ol class=list-inline>\n",
       "\t<li>978443</li>\n",
       "\t<li>9</li>\n",
       "</ol>\n"
      ],
      "text/latex": [
       "\\begin{enumerate*}\n",
       "\\item 978443\n",
       "\\item 9\n",
       "\\end{enumerate*}\n"
      ],
      "text/markdown": [
       "1. 978443\n",
       "2. 9\n",
       "\n",
       "\n"
      ],
      "text/plain": [
       "[1] 978443      9"
      ]
     },
     "metadata": {},
     "output_type": "display_data"
    }
   ],
   "source": [
    "names(offline) = c(\"time\", \"scanMac\", \"posX\", \"posY\", \"posZ\", \n",
    "                   \"orientation\", \"mac\", \"signal\", \n",
    "                   \"channel\", \"type\")\n",
    "\n",
    "numVars = c(\"time\", \"posX\", \"posY\", \"posZ\", \n",
    "            \"orientation\", \"signal\")\n",
    "offline[ numVars ] =  lapply(offline[ numVars ], as.numeric)\n",
    "\n",
    "offline = offline[ offline$type == \"3\", ]\n",
    "offline = offline[ , \"type\" != names(offline) ]\n",
    "dim(offline)\n"
   ]
  },
  {
   "cell_type": "code",
   "execution_count": 12,
   "metadata": {},
   "outputs": [
    {
     "data": {
      "text/html": [
       "<dl class=dl-horizontal>\n",
       "\t<dt>time1</dt>\n",
       "\t\t<dd>'POSIXt'</dd>\n",
       "\t<dt>time2</dt>\n",
       "\t\t<dd>'POSIXct'</dd>\n",
       "\t<dt>scanMac</dt>\n",
       "\t\t<dd>'character'</dd>\n",
       "\t<dt>posX</dt>\n",
       "\t\t<dd>'numeric'</dd>\n",
       "\t<dt>posY</dt>\n",
       "\t\t<dd>'numeric'</dd>\n",
       "\t<dt>posZ</dt>\n",
       "\t\t<dd>'numeric'</dd>\n",
       "\t<dt>orientation</dt>\n",
       "\t\t<dd>'numeric'</dd>\n",
       "\t<dt>mac</dt>\n",
       "\t\t<dd>'character'</dd>\n",
       "\t<dt>signal</dt>\n",
       "\t\t<dd>'numeric'</dd>\n",
       "\t<dt>channel</dt>\n",
       "\t\t<dd>'character'</dd>\n",
       "\t<dt>rawTime</dt>\n",
       "\t\t<dd>'numeric'</dd>\n",
       "</dl>\n"
      ],
      "text/latex": [
       "\\begin{description*}\n",
       "\\item[time1] 'POSIXt'\n",
       "\\item[time2] 'POSIXct'\n",
       "\\item[scanMac] 'character'\n",
       "\\item[posX] 'numeric'\n",
       "\\item[posY] 'numeric'\n",
       "\\item[posZ] 'numeric'\n",
       "\\item[orientation] 'numeric'\n",
       "\\item[mac] 'character'\n",
       "\\item[signal] 'numeric'\n",
       "\\item[channel] 'character'\n",
       "\\item[rawTime] 'numeric'\n",
       "\\end{description*}\n"
      ],
      "text/markdown": [
       "time1\n",
       ":   'POSIXt'time2\n",
       ":   'POSIXct'scanMac\n",
       ":   'character'posX\n",
       ":   'numeric'posY\n",
       ":   'numeric'posZ\n",
       ":   'numeric'orientation\n",
       ":   'numeric'mac\n",
       ":   'character'signal\n",
       ":   'numeric'channel\n",
       ":   'character'rawTime\n",
       ":   'numeric'\n",
       "\n"
      ],
      "text/plain": [
       "      time1       time2     scanMac        posX        posY        posZ \n",
       "   \"POSIXt\"   \"POSIXct\" \"character\"   \"numeric\"   \"numeric\"   \"numeric\" \n",
       "orientation         mac      signal     channel     rawTime \n",
       "  \"numeric\" \"character\"   \"numeric\" \"character\"   \"numeric\" "
      ]
     },
     "metadata": {},
     "output_type": "display_data"
    },
    {
     "data": {
      "text/plain": [
       "      time                          posX           posY           posZ  \n",
       " Min.   :2006-02-11 13:01:58   Min.   : 0.0   Min.   : 0.0   Min.   :0  \n",
       " 1st Qu.:2006-02-11 18:51:27   1st Qu.: 2.0   1st Qu.: 3.0   1st Qu.:0  \n",
       " Median :2006-02-12 01:27:58   Median :12.0   Median : 6.0   Median :0  \n",
       " Mean   :2006-02-16 20:27:37   Mean   :13.5   Mean   : 5.9   Mean   :0  \n",
       " 3rd Qu.:2006-02-19 20:22:40   3rd Qu.:23.0   3rd Qu.: 8.0   3rd Qu.:0  \n",
       " Max.   :2006-03-10 02:11:10   Max.   :33.0   Max.   :13.0   Max.   :0  \n",
       "  orientation      signal     \n",
       " Min.   :  0   Min.   :-99.0  \n",
       " 1st Qu.: 90   1st Qu.:-69.0  \n",
       " Median :180   Median :-60.0  \n",
       " Mean   :167   Mean   :-61.7  \n",
       " 3rd Qu.:270   3rd Qu.:-53.0  \n",
       " Max.   :360   Max.   :-25.0  "
      ]
     },
     "metadata": {},
     "output_type": "display_data"
    },
    {
     "data": {
      "text/plain": [
       "                mac               channel                    scanMac      \n",
       " 00:0f:a3:39:e1:c0:145862   2462000000:189774   00:02:2D:21:0F:33:978443  \n",
       " 00:0f:a3:39:dd:cd:145619   2437000000:152124                             \n",
       " 00:14:bf:b1:97:8a:132962   2412000000:145619                             \n",
       " 00:14:bf:3b:c7:c6:126529   2432000000:126529                             \n",
       " 00:14:bf:b1:97:90:122315   2427000000:122315                             \n",
       " 00:14:bf:b1:97:8d:121325   2442000000:121325                             \n",
       " (Other)          :183831   (Other)   :120757                             "
      ]
     },
     "metadata": {},
     "output_type": "display_data"
    },
    {
     "data": {
      "text/html": [
       "203"
      ],
      "text/latex": [
       "203"
      ],
      "text/markdown": [
       "203"
      ],
      "text/plain": [
       "[1] 203"
      ]
     },
     "metadata": {},
     "output_type": "display_data"
    },
    {
     "data": {
      "image/png": "[encoded data removed]",
      "text/plain": [
       "Plot with title “ecdf(offline$orientation)”"
      ]
     },
     "metadata": {},
     "output_type": "display_data"
    }
   ],
   "source": [
    "offline$rawTime = offline$time\n",
    "offline$time = offline$time/1000\n",
    "class(offline$time) = c(\"POSIXt\", \"POSIXct\")\n",
    "\n",
    "unlist(lapply(offline, class))\n",
    "\n",
    "summary(offline[, numVars])\n",
    "\n",
    " summary(sapply(offline[ , c(\"mac\", \"channel\", \"scanMac\")],\n",
    "                as.factor))\n",
    "\n",
    "offline = offline[ , !(names(offline) %in% c(\"scanMac\", \"posZ\"))]\n",
    "\n",
    "length(unique(offline$orientation))\n",
    "\n",
    "plot(ecdf(offline$orientation))\n"
   ]
  },
  {
   "cell_type": "code",
   "execution_count": 33,
   "metadata": {},
   "outputs": [
    {
     "data": {
      "text/html": [
       "<strong>pdf:</strong> 2"
      ],
      "text/latex": [
       "\\textbf{pdf:} 2"
      ],
      "text/markdown": [
       "**pdf:** 2"
      ],
      "text/plain": [
       "pdf \n",
       "  2 "
      ]
     },
     "metadata": {},
     "output_type": "display_data"
    }
   ],
   "source": [
    "pdf(file = \"Geo_ECDFOrientation.pdf\", width = 10, height = 7)\n",
    "oldPar = par(mar = c(4, 4, 1, 1))\n",
    "plot(ecdf(offline$orientation), pch = 19, cex = 0.3,\n",
    "     xlim = c(-5, 365), axes = FALSE,\n",
    "     xlab = \"orientation\", ylab = \"Empirical CDF\", main = \"\")\n",
    "box()\n",
    "axis(2)\n",
    "axis(side = 1, at = seq(0, 360, by = 45))\n",
    "par(oldPar)\n",
    "dev.off()"
   ]
  },
  {
   "cell_type": "code",
   "execution_count": 14,
   "metadata": {},
   "outputs": [
    {
     "data": {
      "text/html": [
       "<strong>pdf:</strong> 2"
      ],
      "text/latex": [
       "\\textbf{pdf:} 2"
      ],
      "text/markdown": [
       "**pdf:** 2"
      ],
      "text/plain": [
       "pdf \n",
       "  2 "
      ]
     },
     "metadata": {},
     "output_type": "display_data"
    },
    {
     "data": {
      "text/html": [
       "<strong>pdf:</strong> 2"
      ],
      "text/latex": [
       "\\textbf{pdf:} 2"
      ],
      "text/markdown": [
       "**pdf:** 2"
      ],
      "text/plain": [
       "pdf \n",
       "  2 "
      ]
     },
     "metadata": {},
     "output_type": "display_data"
    }
   ],
   "source": [
    "pdf(file = \"Geo_DensityOrientation.pdf\", width = 10, height = 5)\n",
    "oldPar = par(mar = c(4, 4, 1, 1))\n",
    "plot(density(offline$orientation, bw = 2), \n",
    " xlab = \"orientation\", main = \"\")\n",
    "par(oldPar)\n",
    "dev.off()\n",
    "\n",
    "roundOrientation = function(angles) {\n",
    "  refs = seq(0, by = 45, length  = 9)\n",
    "  q = sapply(angles, function(o) which.min(abs(o - refs)))\n",
    "  c(refs[1:8], 0)[q]\n",
    "}\n",
    "\n",
    "offline$angle = roundOrientation(offline$orientation)\n",
    "\n",
    "pdf(file = \"Geo_BoxplotAngle.pdf\", width = 10)\n",
    "oldPar = par(mar = c(4, 4, 1, 1))\n",
    "\n",
    "par(oldPar)\n",
    "dev.off()"
   ]
  },
  {
   "cell_type": "code",
   "execution_count": 34,
   "metadata": {},
   "outputs": [
    {
     "data": {
      "text/html": [
       "<ol class=list-inline>\n",
       "\t<li>12</li>\n",
       "\t<li>8</li>\n",
       "</ol>\n"
      ],
      "text/latex": [
       "\\begin{enumerate*}\n",
       "\\item 12\n",
       "\\item 8\n",
       "\\end{enumerate*}\n"
      ],
      "text/markdown": [
       "1. 12\n",
       "2. 8\n",
       "\n",
       "\n"
      ],
      "text/plain": [
       "[1] 12  8"
      ]
     },
     "metadata": {},
     "output_type": "display_data"
    },
    {
     "data": {
      "text/plain": [
       "\n",
       "00:04:0e:5c:23:fc 00:0f:a3:39:dd:cd 00:0f:a3:39:e0:4b 00:0f:a3:39:e1:c0 \n",
       "              418            145619             43508            145862 \n",
       "00:0f:a3:39:e2:10 00:14:bf:3b:c7:c6 00:14:bf:b1:97:81 00:14:bf:b1:97:8a \n",
       "            19162            126529            120339            132962 \n",
       "00:14:bf:b1:97:8d 00:14:bf:b1:97:90 00:30:bd:f8:7f:c5 00:e0:63:82:8b:a9 \n",
       "           121325            122315               301               103 "
      ]
     },
     "metadata": {},
     "output_type": "display_data"
    },
    {
     "data": {
      "text/html": [
       "<dl class=dl-horizontal>\n",
       "\t<dt>00:0f:a3:39:dd:cd</dt>\n",
       "\t\t<dd>1</dd>\n",
       "\t<dt>00:0f:a3:39:e1:c0</dt>\n",
       "\t\t<dd>1</dd>\n",
       "\t<dt>00:14:bf:3b:c7:c6</dt>\n",
       "\t\t<dd>1</dd>\n",
       "\t<dt>00:14:bf:b1:97:81</dt>\n",
       "\t\t<dd>1</dd>\n",
       "\t<dt>00:14:bf:b1:97:8a</dt>\n",
       "\t\t<dd>1</dd>\n",
       "\t<dt>00:14:bf:b1:97:8d</dt>\n",
       "\t\t<dd>1</dd>\n",
       "\t<dt>00:14:bf:b1:97:90</dt>\n",
       "\t\t<dd>1</dd>\n",
       "</dl>\n"
      ],
      "text/latex": [
       "\\begin{description*}\n",
       "\\item[00:0f:a3:39:dd:cd] 1\n",
       "\\item[00:0f:a3:39:e1:c0] 1\n",
       "\\item[00:14:bf:3b:c7:c6] 1\n",
       "\\item[00:14:bf:b1:97:81] 1\n",
       "\\item[00:14:bf:b1:97:8a] 1\n",
       "\\item[00:14:bf:b1:97:8d] 1\n",
       "\\item[00:14:bf:b1:97:90] 1\n",
       "\\end{description*}\n"
      ],
      "text/markdown": [
       "00:0f:a3:39:dd:cd\n",
       ":   100:0f:a3:39:e1:c0\n",
       ":   100:14:bf:3b:c7:c6\n",
       ":   100:14:bf:b1:97:81\n",
       ":   100:14:bf:b1:97:8a\n",
       ":   100:14:bf:b1:97:8d\n",
       ":   100:14:bf:b1:97:90\n",
       ":   1\n",
       "\n"
      ],
      "text/plain": [
       "00:0f:a3:39:dd:cd 00:0f:a3:39:e1:c0 00:14:bf:3b:c7:c6 00:14:bf:b1:97:81 \n",
       "                1                 1                 1                 1 \n",
       "00:14:bf:b1:97:8a 00:14:bf:b1:97:8d 00:14:bf:b1:97:90 \n",
       "                1                 1                 1 "
      ]
     },
     "metadata": {},
     "output_type": "display_data"
    },
    {
     "data": {
      "text/html": [
       "476"
      ],
      "text/latex": [
       "476"
      ],
      "text/markdown": [
       "476"
      ],
      "text/plain": [
       "[1] 476"
      ]
     },
     "metadata": {},
     "output_type": "display_data"
    }
   ],
   "source": [
    "c(length(unique(offline$mac)), length(unique(offline$channel)))\n",
    "\n",
    "table(offline$mac)\n",
    "\n",
    "subMacs = names(sort(table(offline$mac), decreasing = TRUE))[1:7]\n",
    "offline = offline[ offline$mac %in% subMacs, ]\n",
    "\n",
    "macChannel = with(offline, table(mac, channel))\n",
    "apply(macChannel, 1, function(x) sum(x > 0))\n",
    "\n",
    "offline = offline[ , \"channel\" != names(offline)]\n",
    "\n",
    "locDF = with(offline, \n",
    "             by(offline, list(posX, posY), function(x) x))\n",
    "length(locDF)"
   ]
  },
  {
   "cell_type": "code",
   "execution_count": 16,
   "metadata": {},
   "outputs": [
    {
     "data": {
      "text/html": [
       "310"
      ],
      "text/latex": [
       "310"
      ],
      "text/markdown": [
       "310"
      ],
      "text/plain": [
       "[1] 310"
      ]
     },
     "metadata": {},
     "output_type": "display_data"
    },
    {
     "data": {
      "text/html": [
       "166"
      ],
      "text/latex": [
       "166"
      ],
      "text/markdown": [
       "166"
      ],
      "text/plain": [
       "[1] 166"
      ]
     },
     "metadata": {},
     "output_type": "display_data"
    },
    {
     "data": {
      "text/html": [
       "'matrix'"
      ],
      "text/latex": [
       "'matrix'"
      ],
      "text/markdown": [
       "'matrix'"
      ],
      "text/plain": [
       "[1] \"matrix\""
      ]
     },
     "metadata": {},
     "output_type": "display_data"
    },
    {
     "data": {
      "text/html": [
       "<ol class=list-inline>\n",
       "\t<li>3</li>\n",
       "\t<li>166</li>\n",
       "</ol>\n"
      ],
      "text/latex": [
       "\\begin{enumerate*}\n",
       "\\item 3\n",
       "\\item 166\n",
       "\\end{enumerate*}\n"
      ],
      "text/markdown": [
       "1. 3\n",
       "2. 166\n",
       "\n",
       "\n"
      ],
      "text/plain": [
       "[1]   3 166"
      ]
     },
     "metadata": {},
     "output_type": "display_data"
    },
    {
     "data": {
      "text/html": [
       "<table>\n",
       "<tbody>\n",
       "\t<tr><th scope=row>posX</th><td>0</td><td>1</td><td>2</td><td>0</td><td>1</td><td>2</td><td>0</td><td>1</td></tr>\n",
       "\t<tr><th scope=row>posY</th><td>0</td><td>0</td><td>0</td><td>1</td><td>1</td><td>1</td><td>2</td><td>2</td></tr>\n",
       "\t<tr><th scope=row>count</th><td>5505</td><td>5505</td><td>5506</td><td>5524</td><td>5543</td><td>5558</td><td>5503</td><td>5564</td></tr>\n",
       "</tbody>\n",
       "</table>\n"
      ],
      "text/latex": [
       "\\begin{tabular}{r|llllllll}\n",
       "\tposX & 0 & 1 & 2 & 0 & 1 & 2 & 0 & 1\\\\\n",
       "\tposY & 0 & 0 & 0 & 1 & 1 & 1 & 2 & 2\\\\\n",
       "\tcount & 5505 & 5505 & 5506 & 5524 & 5543 & 5558 & 5503 & 5564\\\\\n",
       "\\end{tabular}\n"
      ],
      "text/markdown": [
       "\n",
       "| posX | 0 | 1 | 2 | 0 | 1 | 2 | 0 | 1 | \n",
       "| posY | 0 | 0 | 0 | 1 | 1 | 1 | 2 | 2 | \n",
       "| count | 5505 | 5505 | 5506 | 5524 | 5543 | 5558 | 5503 | 5564 | \n",
       "\n",
       "\n"
      ],
      "text/plain": [
       "      [,1] [,2] [,3] [,4] [,5] [,6] [,7] [,8]\n",
       "posX  0    1    2    0    1    2    0    1   \n",
       "posY  0    0    0    1    1    1    2    2   \n",
       "count 5505 5505 5506 5524 5543 5558 5503 5564"
      ]
     },
     "metadata": {},
     "output_type": "display_data"
    },
    {
     "data": {
      "text/html": [
       "<strong>pdf:</strong> 2"
      ],
      "text/latex": [
       "\\textbf{pdf:} 2"
      ],
      "text/markdown": [
       "**pdf:** 2"
      ],
      "text/plain": [
       "pdf \n",
       "  2 "
      ]
     },
     "metadata": {},
     "output_type": "display_data"
    }
   ],
   "source": [
    "sum(sapply(locDF, is.null))\n",
    "\n",
    "locDF = locDF[ !sapply(locDF, is.null) ]\n",
    "\n",
    "length(locDF)\n",
    "\n",
    "locCounts = sapply(locDF, nrow)\n",
    "\n",
    "locCounts = sapply(locDF, \n",
    "                   function(df) \n",
    "                     c(df[1, c(\"posX\", \"posY\")], count = nrow(df)))\n",
    "\n",
    "class(locCounts)\n",
    "\n",
    "dim(locCounts)\n",
    "\n",
    "locCounts[ , 1:8]\n",
    "\n",
    "pdf(file = \"Geo_XYByCount.pdf\", width = 10)\n",
    "oldPar = par(mar = c(3.1, 3.1, 1, 1))\n",
    "\n",
    "locCounts = t(locCounts)\n",
    "plot(locCounts, type = \"n\", xlab = \"\", ylab = \"\")\n",
    "text(locCounts, labels = locCounts[,3], cex = .8, srt = 45)\n",
    "\n",
    "par(oldPar)\n",
    "dev.off()"
   ]
  },
  {
   "cell_type": "code",
   "execution_count": 47,
   "metadata": {
    "collapsed": true
   },
   "outputs": [],
   "source": [
    "readData = \n",
    "  function(filename = 'offlineFinalTrace.txt', \n",
    "           subMacs = c(\"00:0f:a3:39:e1:c0\", \"00:0f:a3:39:dd:cd\", \"00:14:bf:b1:97:8a\",\n",
    "                       \"00:14:bf:3b:c7:c6\", \"00:14:bf:b1:97:90\", \"00:14:bf:b1:97:8d\",\n",
    "                       \"00:14:bf:b1:97:81\"))\n",
    "  {\n",
    "    txt = readLines(filename)\n",
    "    lines = txt[ substr(txt, 1, 1) != \"#\" ]\n",
    "    tmp = lapply(lines, processLine)\n",
    "    offline = as.data.frame(do.call(\"rbind\", tmp), \n",
    "                            stringsAsFactors= FALSE) \n",
    "    \n",
    "    names(offline) = c(\"time\", \"scanMac\", \n",
    "                       \"posX\", \"posY\", \"posZ\", \"orientation\", \n",
    "                       \"mac\", \"signal\", \"channel\", \"type\")\n",
    "    \n",
    "     # keep only signals from access points\n",
    "    offline = offline[ offline$type == \"3\", ]\n",
    "    \n",
    "    # drop scanMac, posZ, channel, and type - no info in them\n",
    "    dropVars = c(\"scanMac\", \"posZ\", \"channel\", \"type\")\n",
    "    offline = offline[ , !( names(offline) %in% dropVars ) ]\n",
    "    \n",
    "    # drop more unwanted access points\n",
    "    offline = offline[ offline$mac %in% subMacs, ]\n",
    "    \n",
    "    # convert numeric values\n",
    "    numVars = c(\"time\", \"posX\", \"posY\", \"orientation\", \"signal\")\n",
    "    offline[ numVars ] = lapply(offline[ numVars ], as.numeric)\n",
    "\n",
    "    # convert time to POSIX\n",
    "    offline$rawTime = offline$time\n",
    "    offline$time = offline$time/1000\n",
    "    class(offline$time) = c(\"POSIXt\", \"POSIXct\")\n",
    "    \n",
    "    # round orientations to nearest 45\n",
    "    offline$angle = roundOrientation(offline$orientation)\n",
    "      \n",
    "    return(offline)\n",
    "  }"
   ]
  },
  {
   "cell_type": "code",
   "execution_count": 48,
   "metadata": {},
   "outputs": [
    {
     "data": {
      "text/html": [
       "<table>\n",
       "<thead><tr><th></th><th scope=col>time</th><th scope=col>posX</th><th scope=col>posY</th><th scope=col>orientation</th><th scope=col>mac</th><th scope=col>signal</th><th scope=col>rawTime</th><th scope=col>angle</th></tr></thead>\n",
       "<tbody>\n",
       "\t<tr><th scope=row>1</th><td>2006-02-11 13:01:58</td><td>0                  </td><td>0                  </td><td>0                  </td><td>00:14:bf:b1:97:8a  </td><td>-38                </td><td>1.14e+12           </td><td>0                  </td></tr>\n",
       "\t<tr><th scope=row>2</th><td>2006-02-11 13:01:58</td><td>0                  </td><td>0                  </td><td>0                  </td><td>00:14:bf:b1:97:90  </td><td>-56                </td><td>1.14e+12           </td><td>0                  </td></tr>\n",
       "\t<tr><th scope=row>3</th><td>2006-02-11 13:01:58</td><td>0                  </td><td>0                  </td><td>0                  </td><td>00:0f:a3:39:e1:c0  </td><td>-53                </td><td>1.14e+12           </td><td>0                  </td></tr>\n",
       "\t<tr><th scope=row>4</th><td>2006-02-11 13:01:58</td><td>0                  </td><td>0                  </td><td>0                  </td><td>00:14:bf:b1:97:8d  </td><td>-65                </td><td>1.14e+12           </td><td>0                  </td></tr>\n",
       "\t<tr><th scope=row>5</th><td>2006-02-11 13:01:58</td><td>0                  </td><td>0                  </td><td>0                  </td><td>00:14:bf:b1:97:81  </td><td>-65                </td><td>1.14e+12           </td><td>0                  </td></tr>\n",
       "\t<tr><th scope=row>6</th><td>2006-02-11 13:01:58</td><td>0                  </td><td>0                  </td><td>0                  </td><td>00:14:bf:3b:c7:c6  </td><td>-66                </td><td>1.14e+12           </td><td>0                  </td></tr>\n",
       "\t<tr><th scope=row>7</th><td>2006-02-11 13:01:58</td><td>0                  </td><td>0                  </td><td>0                  </td><td>00:0f:a3:39:dd:cd  </td><td>-75                </td><td>1.14e+12           </td><td>0                  </td></tr>\n",
       "\t<tr><th scope=row>12</th><td>2006-02-11 13:01:58</td><td>0                  </td><td>0                  </td><td>0                  </td><td>00:14:bf:b1:97:8a  </td><td>-38                </td><td>1.14e+12           </td><td>0                  </td></tr>\n",
       "\t<tr><th scope=row>13</th><td>2006-02-11 13:01:58</td><td>0                  </td><td>0                  </td><td>0                  </td><td>00:0f:a3:39:e1:c0  </td><td>-54                </td><td>1.14e+12           </td><td>0                  </td></tr>\n",
       "\t<tr><th scope=row>14</th><td>2006-02-11 13:01:58</td><td>0                  </td><td>0                  </td><td>0                  </td><td>00:14:bf:b1:97:90  </td><td>-56                </td><td>1.14e+12           </td><td>0                  </td></tr>\n",
       "\t<tr><th scope=row>15</th><td>2006-02-11 13:01:58</td><td>0                  </td><td>0                  </td><td>0                  </td><td>00:14:bf:3b:c7:c6  </td><td>-67                </td><td>1.14e+12           </td><td>0                  </td></tr>\n",
       "\t<tr><th scope=row>16</th><td>2006-02-11 13:01:58</td><td>0                  </td><td>0                  </td><td>0                  </td><td>00:14:bf:b1:97:81  </td><td>-66                </td><td>1.14e+12           </td><td>0                  </td></tr>\n",
       "\t<tr><th scope=row>17</th><td>2006-02-11 13:01:58</td><td>0                  </td><td>0                  </td><td>0                  </td><td>00:14:bf:b1:97:8d  </td><td>-70                </td><td>1.14e+12           </td><td>0                  </td></tr>\n",
       "\t<tr><th scope=row>19</th><td>2006-02-11 13:01:58</td><td>0                  </td><td>0                  </td><td>0                  </td><td>00:0f:a3:39:dd:cd  </td><td>-73                </td><td>1.14e+12           </td><td>0                  </td></tr>\n",
       "\t<tr><th scope=row>22</th><td>2006-02-11 13:01:59</td><td>0                  </td><td>0                  </td><td>0                  </td><td>00:14:bf:b1:97:8a  </td><td>-38                </td><td>1.14e+12           </td><td>0                  </td></tr>\n",
       "\t<tr><th scope=row>23</th><td>2006-02-11 13:01:59</td><td>0                  </td><td>0                  </td><td>0                  </td><td>00:0f:a3:39:e1:c0  </td><td>-54                </td><td>1.14e+12           </td><td>0                  </td></tr>\n",
       "\t<tr><th scope=row>24</th><td>2006-02-11 13:01:59</td><td>0                  </td><td>0                  </td><td>0                  </td><td>00:14:bf:b1:97:90  </td><td>-57                </td><td>1.14e+12           </td><td>0                  </td></tr>\n",
       "\t<tr><th scope=row>25</th><td>2006-02-11 13:01:59</td><td>0                  </td><td>0                  </td><td>0                  </td><td>00:14:bf:b1:97:81  </td><td>-66                </td><td>1.14e+12           </td><td>0                  </td></tr>\n",
       "\t<tr><th scope=row>26</th><td>2006-02-11 13:01:59</td><td>0                  </td><td>0                  </td><td>0                  </td><td>00:14:bf:3b:c7:c6  </td><td>-69                </td><td>1.14e+12           </td><td>0                  </td></tr>\n",
       "\t<tr><th scope=row>27</th><td>2006-02-11 13:01:59</td><td>0                  </td><td>0                  </td><td>0                  </td><td>00:14:bf:b1:97:8d  </td><td>-70                </td><td>1.14e+12           </td><td>0                  </td></tr>\n",
       "\t<tr><th scope=row>30</th><td>2006-02-11 13:01:59</td><td>0                  </td><td>0                  </td><td>0                  </td><td>00:0f:a3:39:dd:cd  </td><td>-65                </td><td>1.14e+12           </td><td>0                  </td></tr>\n",
       "\t<tr><th scope=row>32</th><td>2006-02-11 13:01:59</td><td>0                  </td><td>0                  </td><td>0                  </td><td>00:14:bf:b1:97:8a  </td><td>-38                </td><td>1.14e+12           </td><td>0                  </td></tr>\n",
       "\t<tr><th scope=row>33</th><td>2006-02-11 13:01:59</td><td>0                  </td><td>0                  </td><td>0                  </td><td>00:14:bf:b1:97:90  </td><td>-52                </td><td>1.14e+12           </td><td>0                  </td></tr>\n",
       "\t<tr><th scope=row>34</th><td>2006-02-11 13:01:59</td><td>0                  </td><td>0                  </td><td>0                  </td><td>00:0f:a3:39:e1:c0  </td><td>-54                </td><td>1.14e+12           </td><td>0                  </td></tr>\n",
       "\t<tr><th scope=row>35</th><td>2006-02-11 13:01:59</td><td>0                  </td><td>0                  </td><td>0                  </td><td>00:14:bf:b1:97:81  </td><td>-64                </td><td>1.14e+12           </td><td>0                  </td></tr>\n",
       "\t<tr><th scope=row>36</th><td>2006-02-11 13:01:59</td><td>0                  </td><td>0                  </td><td>0                  </td><td>00:14:bf:3b:c7:c6  </td><td>-68                </td><td>1.14e+12           </td><td>0                  </td></tr>\n",
       "\t<tr><th scope=row>37</th><td>2006-02-11 13:01:59</td><td>0                  </td><td>0                  </td><td>0                  </td><td>00:14:bf:b1:97:8d  </td><td>-74                </td><td>1.14e+12           </td><td>0                  </td></tr>\n",
       "\t<tr><th scope=row>38</th><td>2006-02-11 13:01:59</td><td>0                  </td><td>0                  </td><td>0                  </td><td>00:0f:a3:39:dd:cd  </td><td>-78                </td><td>1.14e+12           </td><td>0                  </td></tr>\n",
       "\t<tr><th scope=row>43</th><td>2006-02-11 13:01:59</td><td>0                  </td><td>0                  </td><td>0                  </td><td>00:14:bf:b1:97:8a  </td><td>-46                </td><td>1.14e+12           </td><td>0                  </td></tr>\n",
       "\t<tr><th scope=row>44</th><td>2006-02-11 13:01:59</td><td>0                  </td><td>0                  </td><td>0                  </td><td>00:0f:a3:39:e1:c0  </td><td>-55                </td><td>1.14e+12           </td><td>0                  </td></tr>\n",
       "\t<tr><th scope=row>⋮</th><td>⋮</td><td>⋮</td><td>⋮</td><td>⋮</td><td>⋮</td><td>⋮</td><td>⋮</td><td>⋮</td></tr>\n",
       "\t<tr><th scope=row>1181594</th><td>2006-03-10 02:11:09</td><td>20                 </td><td>8                  </td><td>316                </td><td>00:14:bf:b1:97:8d  </td><td>-56                </td><td>1.14e+12           </td><td>315                </td></tr>\n",
       "\t<tr><th scope=row>1181595</th><td>2006-03-10 02:11:09</td><td>20                 </td><td>8                  </td><td>316                </td><td>00:14:bf:b1:97:8a  </td><td>-60                </td><td>1.14e+12           </td><td>315                </td></tr>\n",
       "\t<tr><th scope=row>1181596</th><td>2006-03-10 02:11:09</td><td>20                 </td><td>8                  </td><td>316                </td><td>00:14:bf:b1:97:90  </td><td>-69                </td><td>1.14e+12           </td><td>315                </td></tr>\n",
       "\t<tr><th scope=row>1181597</th><td>2006-03-10 02:11:09</td><td>20                 </td><td>8                  </td><td>316                </td><td>00:0f:a3:39:dd:cd  </td><td>-76                </td><td>1.14e+12           </td><td>315                </td></tr>\n",
       "\t<tr><th scope=row>1181599</th><td>2006-03-10 02:11:09</td><td>20                 </td><td>8                  </td><td>316                </td><td>00:0f:a3:39:e1:c0  </td><td>-53                </td><td>1.14e+12           </td><td>315                </td></tr>\n",
       "\t<tr><th scope=row>1181600</th><td>2006-03-10 02:11:09</td><td>20                 </td><td>8                  </td><td>316                </td><td>00:14:bf:3b:c7:c6  </td><td>-52                </td><td>1.14e+12           </td><td>315                </td></tr>\n",
       "\t<tr><th scope=row>1181601</th><td>2006-03-10 02:11:09</td><td>20                 </td><td>8                  </td><td>316                </td><td>00:14:bf:b1:97:8d  </td><td>-62                </td><td>1.14e+12           </td><td>315                </td></tr>\n",
       "\t<tr><th scope=row>1181602</th><td>2006-03-10 02:11:09</td><td>20                 </td><td>8                  </td><td>316                </td><td>00:14:bf:b1:97:81  </td><td>-58                </td><td>1.14e+12           </td><td>315                </td></tr>\n",
       "\t<tr><th scope=row>1181603</th><td>2006-03-10 02:11:09</td><td>20                 </td><td>8                  </td><td>316                </td><td>00:14:bf:b1:97:8a  </td><td>-61                </td><td>1.14e+12           </td><td>315                </td></tr>\n",
       "\t<tr><th scope=row>1181604</th><td>2006-03-10 02:11:09</td><td>20                 </td><td>8                  </td><td>316                </td><td>00:0f:a3:39:dd:cd  </td><td>-77                </td><td>1.14e+12           </td><td>315                </td></tr>\n",
       "\t<tr><th scope=row>1181606</th><td>2006-03-10 02:11:09</td><td>20                 </td><td>8                  </td><td>316                </td><td>00:0f:a3:39:e1:c0  </td><td>-54                </td><td>1.14e+12           </td><td>315                </td></tr>\n",
       "\t<tr><th scope=row>1181607</th><td>2006-03-10 02:11:09</td><td>20                 </td><td>8                  </td><td>316                </td><td>00:14:bf:3b:c7:c6  </td><td>-58                </td><td>1.14e+12           </td><td>315                </td></tr>\n",
       "\t<tr><th scope=row>1181608</th><td>2006-03-10 02:11:09</td><td>20                 </td><td>8                  </td><td>316                </td><td>00:14:bf:b1:97:8d  </td><td>-56                </td><td>1.14e+12           </td><td>315                </td></tr>\n",
       "\t<tr><th scope=row>1181609</th><td>2006-03-10 02:11:09</td><td>20                 </td><td>8                  </td><td>316                </td><td>00:14:bf:b1:97:8a  </td><td>-60                </td><td>1.14e+12           </td><td>315                </td></tr>\n",
       "\t<tr><th scope=row>1181610</th><td>2006-03-10 02:11:09</td><td>20                 </td><td>8                  </td><td>316                </td><td>00:14:bf:b1:97:90  </td><td>-69                </td><td>1.14e+12           </td><td>315                </td></tr>\n",
       "\t<tr><th scope=row>1181611</th><td>2006-03-10 02:11:09</td><td>20                 </td><td>8                  </td><td>316                </td><td>00:0f:a3:39:dd:cd  </td><td>-77                </td><td>1.14e+12           </td><td>315                </td></tr>\n",
       "\t<tr><th scope=row>1181612</th><td>2006-03-10 02:11:09</td><td>20                 </td><td>8                  </td><td>316                </td><td>00:14:bf:b1:97:81  </td><td>-62                </td><td>1.14e+12           </td><td>315                </td></tr>\n",
       "\t<tr><th scope=row>1181614</th><td>2006-03-10 02:11:10</td><td>20                 </td><td>8                  </td><td>316                </td><td>00:14:bf:3b:c7:c6  </td><td>-51                </td><td>1.14e+12           </td><td>315                </td></tr>\n",
       "\t<tr><th scope=row>1181615</th><td>2006-03-10 02:11:10</td><td>20                 </td><td>8                  </td><td>316                </td><td>00:0f:a3:39:e1:c0  </td><td>-53                </td><td>1.14e+12           </td><td>315                </td></tr>\n",
       "\t<tr><th scope=row>1181616</th><td>2006-03-10 02:11:10</td><td>20                 </td><td>8                  </td><td>316                </td><td>00:14:bf:b1:97:8a  </td><td>-61                </td><td>1.14e+12           </td><td>315                </td></tr>\n",
       "\t<tr><th scope=row>1181617</th><td>2006-03-10 02:11:10</td><td>20                 </td><td>8                  </td><td>316                </td><td>00:14:bf:b1:97:81  </td><td>-60                </td><td>1.14e+12           </td><td>315                </td></tr>\n",
       "\t<tr><th scope=row>1181618</th><td>2006-03-10 02:11:10</td><td>20                 </td><td>8                  </td><td>316                </td><td>00:14:bf:b1:97:8d  </td><td>-62                </td><td>1.14e+12           </td><td>315                </td></tr>\n",
       "\t<tr><th scope=row>1181619</th><td>2006-03-10 02:11:10</td><td>20                 </td><td>8                  </td><td>316                </td><td>00:0f:a3:39:dd:cd  </td><td>-77                </td><td>1.14e+12           </td><td>315                </td></tr>\n",
       "\t<tr><th scope=row>1181621</th><td>2006-03-10 02:11:10</td><td>20                 </td><td>8                  </td><td>316                </td><td>00:14:bf:3b:c7:c6  </td><td>-56                </td><td>1.14e+12           </td><td>315                </td></tr>\n",
       "\t<tr><th scope=row>1181622</th><td>2006-03-10 02:11:10</td><td>20                 </td><td>8                  </td><td>316                </td><td>00:0f:a3:39:e1:c0  </td><td>-53                </td><td>1.14e+12           </td><td>315                </td></tr>\n",
       "\t<tr><th scope=row>1181623</th><td>2006-03-10 02:11:10</td><td>20                 </td><td>8                  </td><td>316                </td><td>00:14:bf:b1:97:8d  </td><td>-61                </td><td>1.14e+12           </td><td>315                </td></tr>\n",
       "\t<tr><th scope=row>1181624</th><td>2006-03-10 02:11:10</td><td>20                 </td><td>8                  </td><td>316                </td><td>00:14:bf:b1:97:8a  </td><td>-60                </td><td>1.14e+12           </td><td>315                </td></tr>\n",
       "\t<tr><th scope=row>1181625</th><td>2006-03-10 02:11:10</td><td>20                 </td><td>8                  </td><td>316                </td><td>00:14:bf:b1:97:81  </td><td>-60                </td><td>1.14e+12           </td><td>315                </td></tr>\n",
       "\t<tr><th scope=row>1181626</th><td>2006-03-10 02:11:10</td><td>20                 </td><td>8                  </td><td>316                </td><td>00:14:bf:b1:97:90  </td><td>-68                </td><td>1.14e+12           </td><td>315                </td></tr>\n",
       "\t<tr><th scope=row>1181627</th><td>2006-03-10 02:11:10</td><td>20                 </td><td>8                  </td><td>316                </td><td>00:0f:a3:39:dd:cd  </td><td>-76                </td><td>1.14e+12           </td><td>315                </td></tr>\n",
       "</tbody>\n",
       "</table>\n"
      ],
      "text/latex": [
       "\\begin{tabular}{r|llllllll}\n",
       "  & time & posX & posY & orientation & mac & signal & rawTime & angle\\\\\n",
       "\\hline\n",
       "\t1 & 2006-02-11 13:01:58 & 0                   & 0                   & 0                   & 00:14:bf:b1:97:8a   & -38                 & 1.14e+12            & 0                  \\\\\n",
       "\t2 & 2006-02-11 13:01:58 & 0                   & 0                   & 0                   & 00:14:bf:b1:97:90   & -56                 & 1.14e+12            & 0                  \\\\\n",
       "\t3 & 2006-02-11 13:01:58 & 0                   & 0                   & 0                   & 00:0f:a3:39:e1:c0   & -53                 & 1.14e+12            & 0                  \\\\\n",
       "\t4 & 2006-02-11 13:01:58 & 0                   & 0                   & 0                   & 00:14:bf:b1:97:8d   & -65                 & 1.14e+12            & 0                  \\\\\n",
       "\t5 & 2006-02-11 13:01:58 & 0                   & 0                   & 0                   & 00:14:bf:b1:97:81   & -65                 & 1.14e+12            & 0                  \\\\\n",
       "\t6 & 2006-02-11 13:01:58 & 0                   & 0                   & 0                   & 00:14:bf:3b:c7:c6   & -66                 & 1.14e+12            & 0                  \\\\\n",
       "\t7 & 2006-02-11 13:01:58 & 0                   & 0                   & 0                   & 00:0f:a3:39:dd:cd   & -75                 & 1.14e+12            & 0                  \\\\\n",
       "\t12 & 2006-02-11 13:01:58 & 0                   & 0                   & 0                   & 00:14:bf:b1:97:8a   & -38                 & 1.14e+12            & 0                  \\\\\n",
       "\t13 & 2006-02-11 13:01:58 & 0                   & 0                   & 0                   & 00:0f:a3:39:e1:c0   & -54                 & 1.14e+12            & 0                  \\\\\n",
       "\t14 & 2006-02-11 13:01:58 & 0                   & 0                   & 0                   & 00:14:bf:b1:97:90   & -56                 & 1.14e+12            & 0                  \\\\\n",
       "\t15 & 2006-02-11 13:01:58 & 0                   & 0                   & 0                   & 00:14:bf:3b:c7:c6   & -67                 & 1.14e+12            & 0                  \\\\\n",
       "\t16 & 2006-02-11 13:01:58 & 0                   & 0                   & 0                   & 00:14:bf:b1:97:81   & -66                 & 1.14e+12            & 0                  \\\\\n",
       "\t17 & 2006-02-11 13:01:58 & 0                   & 0                   & 0                   & 00:14:bf:b1:97:8d   & -70                 & 1.14e+12            & 0                  \\\\\n",
       "\t19 & 2006-02-11 13:01:58 & 0                   & 0                   & 0                   & 00:0f:a3:39:dd:cd   & -73                 & 1.14e+12            & 0                  \\\\\n",
       "\t22 & 2006-02-11 13:01:59 & 0                   & 0                   & 0                   & 00:14:bf:b1:97:8a   & -38                 & 1.14e+12            & 0                  \\\\\n",
       "\t23 & 2006-02-11 13:01:59 & 0                   & 0                   & 0                   & 00:0f:a3:39:e1:c0   & -54                 & 1.14e+12            & 0                  \\\\\n",
       "\t24 & 2006-02-11 13:01:59 & 0                   & 0                   & 0                   & 00:14:bf:b1:97:90   & -57                 & 1.14e+12            & 0                  \\\\\n",
       "\t25 & 2006-02-11 13:01:59 & 0                   & 0                   & 0                   & 00:14:bf:b1:97:81   & -66                 & 1.14e+12            & 0                  \\\\\n",
       "\t26 & 2006-02-11 13:01:59 & 0                   & 0                   & 0                   & 00:14:bf:3b:c7:c6   & -69                 & 1.14e+12            & 0                  \\\\\n",
       "\t27 & 2006-02-11 13:01:59 & 0                   & 0                   & 0                   & 00:14:bf:b1:97:8d   & -70                 & 1.14e+12            & 0                  \\\\\n",
       "\t30 & 2006-02-11 13:01:59 & 0                   & 0                   & 0                   & 00:0f:a3:39:dd:cd   & -65                 & 1.14e+12            & 0                  \\\\\n",
       "\t32 & 2006-02-11 13:01:59 & 0                   & 0                   & 0                   & 00:14:bf:b1:97:8a   & -38                 & 1.14e+12            & 0                  \\\\\n",
       "\t33 & 2006-02-11 13:01:59 & 0                   & 0                   & 0                   & 00:14:bf:b1:97:90   & -52                 & 1.14e+12            & 0                  \\\\\n",
       "\t34 & 2006-02-11 13:01:59 & 0                   & 0                   & 0                   & 00:0f:a3:39:e1:c0   & -54                 & 1.14e+12            & 0                  \\\\\n",
       "\t35 & 2006-02-11 13:01:59 & 0                   & 0                   & 0                   & 00:14:bf:b1:97:81   & -64                 & 1.14e+12            & 0                  \\\\\n",
       "\t36 & 2006-02-11 13:01:59 & 0                   & 0                   & 0                   & 00:14:bf:3b:c7:c6   & -68                 & 1.14e+12            & 0                  \\\\\n",
       "\t37 & 2006-02-11 13:01:59 & 0                   & 0                   & 0                   & 00:14:bf:b1:97:8d   & -74                 & 1.14e+12            & 0                  \\\\\n",
       "\t38 & 2006-02-11 13:01:59 & 0                   & 0                   & 0                   & 00:0f:a3:39:dd:cd   & -78                 & 1.14e+12            & 0                  \\\\\n",
       "\t43 & 2006-02-11 13:01:59 & 0                   & 0                   & 0                   & 00:14:bf:b1:97:8a   & -46                 & 1.14e+12            & 0                  \\\\\n",
       "\t44 & 2006-02-11 13:01:59 & 0                   & 0                   & 0                   & 00:0f:a3:39:e1:c0   & -55                 & 1.14e+12            & 0                  \\\\\n",
       "\t⋮ & ⋮ & ⋮ & ⋮ & ⋮ & ⋮ & ⋮ & ⋮ & ⋮\\\\\n",
       "\t1181594 & 2006-03-10 02:11:09 & 20                  & 8                   & 316                 & 00:14:bf:b1:97:8d   & -56                 & 1.14e+12            & 315                \\\\\n",
       "\t1181595 & 2006-03-10 02:11:09 & 20                  & 8                   & 316                 & 00:14:bf:b1:97:8a   & -60                 & 1.14e+12            & 315                \\\\\n",
       "\t1181596 & 2006-03-10 02:11:09 & 20                  & 8                   & 316                 & 00:14:bf:b1:97:90   & -69                 & 1.14e+12            & 315                \\\\\n",
       "\t1181597 & 2006-03-10 02:11:09 & 20                  & 8                   & 316                 & 00:0f:a3:39:dd:cd   & -76                 & 1.14e+12            & 315                \\\\\n",
       "\t1181599 & 2006-03-10 02:11:09 & 20                  & 8                   & 316                 & 00:0f:a3:39:e1:c0   & -53                 & 1.14e+12            & 315                \\\\\n",
       "\t1181600 & 2006-03-10 02:11:09 & 20                  & 8                   & 316                 & 00:14:bf:3b:c7:c6   & -52                 & 1.14e+12            & 315                \\\\\n",
       "\t1181601 & 2006-03-10 02:11:09 & 20                  & 8                   & 316                 & 00:14:bf:b1:97:8d   & -62                 & 1.14e+12            & 315                \\\\\n",
       "\t1181602 & 2006-03-10 02:11:09 & 20                  & 8                   & 316                 & 00:14:bf:b1:97:81   & -58                 & 1.14e+12            & 315                \\\\\n",
       "\t1181603 & 2006-03-10 02:11:09 & 20                  & 8                   & 316                 & 00:14:bf:b1:97:8a   & -61                 & 1.14e+12            & 315                \\\\\n",
       "\t1181604 & 2006-03-10 02:11:09 & 20                  & 8                   & 316                 & 00:0f:a3:39:dd:cd   & -77                 & 1.14e+12            & 315                \\\\\n",
       "\t1181606 & 2006-03-10 02:11:09 & 20                  & 8                   & 316                 & 00:0f:a3:39:e1:c0   & -54                 & 1.14e+12            & 315                \\\\\n",
       "\t1181607 & 2006-03-10 02:11:09 & 20                  & 8                   & 316                 & 00:14:bf:3b:c7:c6   & -58                 & 1.14e+12            & 315                \\\\\n",
       "\t1181608 & 2006-03-10 02:11:09 & 20                  & 8                   & 316                 & 00:14:bf:b1:97:8d   & -56                 & 1.14e+12            & 315                \\\\\n",
       "\t1181609 & 2006-03-10 02:11:09 & 20                  & 8                   & 316                 & 00:14:bf:b1:97:8a   & -60                 & 1.14e+12            & 315                \\\\\n",
       "\t1181610 & 2006-03-10 02:11:09 & 20                  & 8                   & 316                 & 00:14:bf:b1:97:90   & -69                 & 1.14e+12            & 315                \\\\\n",
       "\t1181611 & 2006-03-10 02:11:09 & 20                  & 8                   & 316                 & 00:0f:a3:39:dd:cd   & -77                 & 1.14e+12            & 315                \\\\\n",
       "\t1181612 & 2006-03-10 02:11:09 & 20                  & 8                   & 316                 & 00:14:bf:b1:97:81   & -62                 & 1.14e+12            & 315                \\\\\n",
       "\t1181614 & 2006-03-10 02:11:10 & 20                  & 8                   & 316                 & 00:14:bf:3b:c7:c6   & -51                 & 1.14e+12            & 315                \\\\\n",
       "\t1181615 & 2006-03-10 02:11:10 & 20                  & 8                   & 316                 & 00:0f:a3:39:e1:c0   & -53                 & 1.14e+12            & 315                \\\\\n",
       "\t1181616 & 2006-03-10 02:11:10 & 20                  & 8                   & 316                 & 00:14:bf:b1:97:8a   & -61                 & 1.14e+12            & 315                \\\\\n",
       "\t1181617 & 2006-03-10 02:11:10 & 20                  & 8                   & 316                 & 00:14:bf:b1:97:81   & -60                 & 1.14e+12            & 315                \\\\\n",
       "\t1181618 & 2006-03-10 02:11:10 & 20                  & 8                   & 316                 & 00:14:bf:b1:97:8d   & -62                 & 1.14e+12            & 315                \\\\\n",
       "\t1181619 & 2006-03-10 02:11:10 & 20                  & 8                   & 316                 & 00:0f:a3:39:dd:cd   & -77                 & 1.14e+12            & 315                \\\\\n",
       "\t1181621 & 2006-03-10 02:11:10 & 20                  & 8                   & 316                 & 00:14:bf:3b:c7:c6   & -56                 & 1.14e+12            & 315                \\\\\n",
       "\t1181622 & 2006-03-10 02:11:10 & 20                  & 8                   & 316                 & 00:0f:a3:39:e1:c0   & -53                 & 1.14e+12            & 315                \\\\\n",
       "\t1181623 & 2006-03-10 02:11:10 & 20                  & 8                   & 316                 & 00:14:bf:b1:97:8d   & -61                 & 1.14e+12            & 315                \\\\\n",
       "\t1181624 & 2006-03-10 02:11:10 & 20                  & 8                   & 316                 & 00:14:bf:b1:97:8a   & -60                 & 1.14e+12            & 315                \\\\\n",
       "\t1181625 & 2006-03-10 02:11:10 & 20                  & 8                   & 316                 & 00:14:bf:b1:97:81   & -60                 & 1.14e+12            & 315                \\\\\n",
       "\t1181626 & 2006-03-10 02:11:10 & 20                  & 8                   & 316                 & 00:14:bf:b1:97:90   & -68                 & 1.14e+12            & 315                \\\\\n",
       "\t1181627 & 2006-03-10 02:11:10 & 20                  & 8                   & 316                 & 00:0f:a3:39:dd:cd   & -76                 & 1.14e+12            & 315                \\\\\n",
       "\\end{tabular}\n"
      ],
      "text/markdown": [
       "\n",
       "| <!--/--> | time | posX | posY | orientation | mac | signal | rawTime | angle | \n",
       "|---|---|---|---|---|---|---|---|---|---|---|---|---|---|---|---|---|---|---|---|---|---|---|---|---|---|---|---|---|---|---|---|---|---|---|---|---|---|---|---|---|---|---|---|---|---|---|---|---|---|---|---|---|---|---|---|---|---|---|---|---|\n",
       "| 1 | 2006-02-11 13:01:58 | 0                   | 0                   | 0                   | 00:14:bf:b1:97:8a   | -38                 | 1.14e+12            | 0                   | \n",
       "| 2 | 2006-02-11 13:01:58 | 0                   | 0                   | 0                   | 00:14:bf:b1:97:90   | -56                 | 1.14e+12            | 0                   | \n",
       "| 3 | 2006-02-11 13:01:58 | 0                   | 0                   | 0                   | 00:0f:a3:39:e1:c0   | -53                 | 1.14e+12            | 0                   | \n",
       "| 4 | 2006-02-11 13:01:58 | 0                   | 0                   | 0                   | 00:14:bf:b1:97:8d   | -65                 | 1.14e+12            | 0                   | \n",
       "| 5 | 2006-02-11 13:01:58 | 0                   | 0                   | 0                   | 00:14:bf:b1:97:81   | -65                 | 1.14e+12            | 0                   | \n",
       "| 6 | 2006-02-11 13:01:58 | 0                   | 0                   | 0                   | 00:14:bf:3b:c7:c6   | -66                 | 1.14e+12            | 0                   | \n",
       "| 7 | 2006-02-11 13:01:58 | 0                   | 0                   | 0                   | 00:0f:a3:39:dd:cd   | -75                 | 1.14e+12            | 0                   | \n",
       "| 12 | 2006-02-11 13:01:58 | 0                   | 0                   | 0                   | 00:14:bf:b1:97:8a   | -38                 | 1.14e+12            | 0                   | \n",
       "| 13 | 2006-02-11 13:01:58 | 0                   | 0                   | 0                   | 00:0f:a3:39:e1:c0   | -54                 | 1.14e+12            | 0                   | \n",
       "| 14 | 2006-02-11 13:01:58 | 0                   | 0                   | 0                   | 00:14:bf:b1:97:90   | -56                 | 1.14e+12            | 0                   | \n",
       "| 15 | 2006-02-11 13:01:58 | 0                   | 0                   | 0                   | 00:14:bf:3b:c7:c6   | -67                 | 1.14e+12            | 0                   | \n",
       "| 16 | 2006-02-11 13:01:58 | 0                   | 0                   | 0                   | 00:14:bf:b1:97:81   | -66                 | 1.14e+12            | 0                   | \n",
       "| 17 | 2006-02-11 13:01:58 | 0                   | 0                   | 0                   | 00:14:bf:b1:97:8d   | -70                 | 1.14e+12            | 0                   | \n",
       "| 19 | 2006-02-11 13:01:58 | 0                   | 0                   | 0                   | 00:0f:a3:39:dd:cd   | -73                 | 1.14e+12            | 0                   | \n",
       "| 22 | 2006-02-11 13:01:59 | 0                   | 0                   | 0                   | 00:14:bf:b1:97:8a   | -38                 | 1.14e+12            | 0                   | \n",
       "| 23 | 2006-02-11 13:01:59 | 0                   | 0                   | 0                   | 00:0f:a3:39:e1:c0   | -54                 | 1.14e+12            | 0                   | \n",
       "| 24 | 2006-02-11 13:01:59 | 0                   | 0                   | 0                   | 00:14:bf:b1:97:90   | -57                 | 1.14e+12            | 0                   | \n",
       "| 25 | 2006-02-11 13:01:59 | 0                   | 0                   | 0                   | 00:14:bf:b1:97:81   | -66                 | 1.14e+12            | 0                   | \n",
       "| 26 | 2006-02-11 13:01:59 | 0                   | 0                   | 0                   | 00:14:bf:3b:c7:c6   | -69                 | 1.14e+12            | 0                   | \n",
       "| 27 | 2006-02-11 13:01:59 | 0                   | 0                   | 0                   | 00:14:bf:b1:97:8d   | -70                 | 1.14e+12            | 0                   | \n",
       "| 30 | 2006-02-11 13:01:59 | 0                   | 0                   | 0                   | 00:0f:a3:39:dd:cd   | -65                 | 1.14e+12            | 0                   | \n",
       "| 32 | 2006-02-11 13:01:59 | 0                   | 0                   | 0                   | 00:14:bf:b1:97:8a   | -38                 | 1.14e+12            | 0                   | \n",
       "| 33 | 2006-02-11 13:01:59 | 0                   | 0                   | 0                   | 00:14:bf:b1:97:90   | -52                 | 1.14e+12            | 0                   | \n",
       "| 34 | 2006-02-11 13:01:59 | 0                   | 0                   | 0                   | 00:0f:a3:39:e1:c0   | -54                 | 1.14e+12            | 0                   | \n",
       "| 35 | 2006-02-11 13:01:59 | 0                   | 0                   | 0                   | 00:14:bf:b1:97:81   | -64                 | 1.14e+12            | 0                   | \n",
       "| 36 | 2006-02-11 13:01:59 | 0                   | 0                   | 0                   | 00:14:bf:3b:c7:c6   | -68                 | 1.14e+12            | 0                   | \n",
       "| 37 | 2006-02-11 13:01:59 | 0                   | 0                   | 0                   | 00:14:bf:b1:97:8d   | -74                 | 1.14e+12            | 0                   | \n",
       "| 38 | 2006-02-11 13:01:59 | 0                   | 0                   | 0                   | 00:0f:a3:39:dd:cd   | -78                 | 1.14e+12            | 0                   | \n",
       "| 43 | 2006-02-11 13:01:59 | 0                   | 0                   | 0                   | 00:14:bf:b1:97:8a   | -46                 | 1.14e+12            | 0                   | \n",
       "| 44 | 2006-02-11 13:01:59 | 0                   | 0                   | 0                   | 00:0f:a3:39:e1:c0   | -55                 | 1.14e+12            | 0                   | \n",
       "| ⋮ | ⋮ | ⋮ | ⋮ | ⋮ | ⋮ | ⋮ | ⋮ | ⋮ | \n",
       "| 1181594 | 2006-03-10 02:11:09 | 20                  | 8                   | 316                 | 00:14:bf:b1:97:8d   | -56                 | 1.14e+12            | 315                 | \n",
       "| 1181595 | 2006-03-10 02:11:09 | 20                  | 8                   | 316                 | 00:14:bf:b1:97:8a   | -60                 | 1.14e+12            | 315                 | \n",
       "| 1181596 | 2006-03-10 02:11:09 | 20                  | 8                   | 316                 | 00:14:bf:b1:97:90   | -69                 | 1.14e+12            | 315                 | \n",
       "| 1181597 | 2006-03-10 02:11:09 | 20                  | 8                   | 316                 | 00:0f:a3:39:dd:cd   | -76                 | 1.14e+12            | 315                 | \n",
       "| 1181599 | 2006-03-10 02:11:09 | 20                  | 8                   | 316                 | 00:0f:a3:39:e1:c0   | -53                 | 1.14e+12            | 315                 | \n",
       "| 1181600 | 2006-03-10 02:11:09 | 20                  | 8                   | 316                 | 00:14:bf:3b:c7:c6   | -52                 | 1.14e+12            | 315                 | \n",
       "| 1181601 | 2006-03-10 02:11:09 | 20                  | 8                   | 316                 | 00:14:bf:b1:97:8d   | -62                 | 1.14e+12            | 315                 | \n",
       "| 1181602 | 2006-03-10 02:11:09 | 20                  | 8                   | 316                 | 00:14:bf:b1:97:81   | -58                 | 1.14e+12            | 315                 | \n",
       "| 1181603 | 2006-03-10 02:11:09 | 20                  | 8                   | 316                 | 00:14:bf:b1:97:8a   | -61                 | 1.14e+12            | 315                 | \n",
       "| 1181604 | 2006-03-10 02:11:09 | 20                  | 8                   | 316                 | 00:0f:a3:39:dd:cd   | -77                 | 1.14e+12            | 315                 | \n",
       "| 1181606 | 2006-03-10 02:11:09 | 20                  | 8                   | 316                 | 00:0f:a3:39:e1:c0   | -54                 | 1.14e+12            | 315                 | \n",
       "| 1181607 | 2006-03-10 02:11:09 | 20                  | 8                   | 316                 | 00:14:bf:3b:c7:c6   | -58                 | 1.14e+12            | 315                 | \n",
       "| 1181608 | 2006-03-10 02:11:09 | 20                  | 8                   | 316                 | 00:14:bf:b1:97:8d   | -56                 | 1.14e+12            | 315                 | \n",
       "| 1181609 | 2006-03-10 02:11:09 | 20                  | 8                   | 316                 | 00:14:bf:b1:97:8a   | -60                 | 1.14e+12            | 315                 | \n",
       "| 1181610 | 2006-03-10 02:11:09 | 20                  | 8                   | 316                 | 00:14:bf:b1:97:90   | -69                 | 1.14e+12            | 315                 | \n",
       "| 1181611 | 2006-03-10 02:11:09 | 20                  | 8                   | 316                 | 00:0f:a3:39:dd:cd   | -77                 | 1.14e+12            | 315                 | \n",
       "| 1181612 | 2006-03-10 02:11:09 | 20                  | 8                   | 316                 | 00:14:bf:b1:97:81   | -62                 | 1.14e+12            | 315                 | \n",
       "| 1181614 | 2006-03-10 02:11:10 | 20                  | 8                   | 316                 | 00:14:bf:3b:c7:c6   | -51                 | 1.14e+12            | 315                 | \n",
       "| 1181615 | 2006-03-10 02:11:10 | 20                  | 8                   | 316                 | 00:0f:a3:39:e1:c0   | -53                 | 1.14e+12            | 315                 | \n",
       "| 1181616 | 2006-03-10 02:11:10 | 20                  | 8                   | 316                 | 00:14:bf:b1:97:8a   | -61                 | 1.14e+12            | 315                 | \n",
       "| 1181617 | 2006-03-10 02:11:10 | 20                  | 8                   | 316                 | 00:14:bf:b1:97:81   | -60                 | 1.14e+12            | 315                 | \n",
       "| 1181618 | 2006-03-10 02:11:10 | 20                  | 8                   | 316                 | 00:14:bf:b1:97:8d   | -62                 | 1.14e+12            | 315                 | \n",
       "| 1181619 | 2006-03-10 02:11:10 | 20                  | 8                   | 316                 | 00:0f:a3:39:dd:cd   | -77                 | 1.14e+12            | 315                 | \n",
       "| 1181621 | 2006-03-10 02:11:10 | 20                  | 8                   | 316                 | 00:14:bf:3b:c7:c6   | -56                 | 1.14e+12            | 315                 | \n",
       "| 1181622 | 2006-03-10 02:11:10 | 20                  | 8                   | 316                 | 00:0f:a3:39:e1:c0   | -53                 | 1.14e+12            | 315                 | \n",
       "| 1181623 | 2006-03-10 02:11:10 | 20                  | 8                   | 316                 | 00:14:bf:b1:97:8d   | -61                 | 1.14e+12            | 315                 | \n",
       "| 1181624 | 2006-03-10 02:11:10 | 20                  | 8                   | 316                 | 00:14:bf:b1:97:8a   | -60                 | 1.14e+12            | 315                 | \n",
       "| 1181625 | 2006-03-10 02:11:10 | 20                  | 8                   | 316                 | 00:14:bf:b1:97:81   | -60                 | 1.14e+12            | 315                 | \n",
       "| 1181626 | 2006-03-10 02:11:10 | 20                  | 8                   | 316                 | 00:14:bf:b1:97:90   | -68                 | 1.14e+12            | 315                 | \n",
       "| 1181627 | 2006-03-10 02:11:10 | 20                  | 8                   | 316                 | 00:0f:a3:39:dd:cd   | -76                 | 1.14e+12            | 315                 | \n",
       "\n",
       "\n"
      ],
      "text/plain": [
       "        time                posX posY orientation mac               signal\n",
       "1       2006-02-11 13:01:58 0    0    0           00:14:bf:b1:97:8a -38   \n",
       "2       2006-02-11 13:01:58 0    0    0           00:14:bf:b1:97:90 -56   \n",
       "3       2006-02-11 13:01:58 0    0    0           00:0f:a3:39:e1:c0 -53   \n",
       "4       2006-02-11 13:01:58 0    0    0           00:14:bf:b1:97:8d -65   \n",
       "5       2006-02-11 13:01:58 0    0    0           00:14:bf:b1:97:81 -65   \n",
       "6       2006-02-11 13:01:58 0    0    0           00:14:bf:3b:c7:c6 -66   \n",
       "7       2006-02-11 13:01:58 0    0    0           00:0f:a3:39:dd:cd -75   \n",
       "12      2006-02-11 13:01:58 0    0    0           00:14:bf:b1:97:8a -38   \n",
       "13      2006-02-11 13:01:58 0    0    0           00:0f:a3:39:e1:c0 -54   \n",
       "14      2006-02-11 13:01:58 0    0    0           00:14:bf:b1:97:90 -56   \n",
       "15      2006-02-11 13:01:58 0    0    0           00:14:bf:3b:c7:c6 -67   \n",
       "16      2006-02-11 13:01:58 0    0    0           00:14:bf:b1:97:81 -66   \n",
       "17      2006-02-11 13:01:58 0    0    0           00:14:bf:b1:97:8d -70   \n",
       "19      2006-02-11 13:01:58 0    0    0           00:0f:a3:39:dd:cd -73   \n",
       "22      2006-02-11 13:01:59 0    0    0           00:14:bf:b1:97:8a -38   \n",
       "23      2006-02-11 13:01:59 0    0    0           00:0f:a3:39:e1:c0 -54   \n",
       "24      2006-02-11 13:01:59 0    0    0           00:14:bf:b1:97:90 -57   \n",
       "25      2006-02-11 13:01:59 0    0    0           00:14:bf:b1:97:81 -66   \n",
       "26      2006-02-11 13:01:59 0    0    0           00:14:bf:3b:c7:c6 -69   \n",
       "27      2006-02-11 13:01:59 0    0    0           00:14:bf:b1:97:8d -70   \n",
       "30      2006-02-11 13:01:59 0    0    0           00:0f:a3:39:dd:cd -65   \n",
       "32      2006-02-11 13:01:59 0    0    0           00:14:bf:b1:97:8a -38   \n",
       "33      2006-02-11 13:01:59 0    0    0           00:14:bf:b1:97:90 -52   \n",
       "34      2006-02-11 13:01:59 0    0    0           00:0f:a3:39:e1:c0 -54   \n",
       "35      2006-02-11 13:01:59 0    0    0           00:14:bf:b1:97:81 -64   \n",
       "36      2006-02-11 13:01:59 0    0    0           00:14:bf:3b:c7:c6 -68   \n",
       "37      2006-02-11 13:01:59 0    0    0           00:14:bf:b1:97:8d -74   \n",
       "38      2006-02-11 13:01:59 0    0    0           00:0f:a3:39:dd:cd -78   \n",
       "43      2006-02-11 13:01:59 0    0    0           00:14:bf:b1:97:8a -46   \n",
       "44      2006-02-11 13:01:59 0    0    0           00:0f:a3:39:e1:c0 -55   \n",
       "⋮       ⋮                   ⋮    ⋮    ⋮           ⋮                 ⋮     \n",
       "1181594 2006-03-10 02:11:09 20   8    316         00:14:bf:b1:97:8d -56   \n",
       "1181595 2006-03-10 02:11:09 20   8    316         00:14:bf:b1:97:8a -60   \n",
       "1181596 2006-03-10 02:11:09 20   8    316         00:14:bf:b1:97:90 -69   \n",
       "1181597 2006-03-10 02:11:09 20   8    316         00:0f:a3:39:dd:cd -76   \n",
       "1181599 2006-03-10 02:11:09 20   8    316         00:0f:a3:39:e1:c0 -53   \n",
       "1181600 2006-03-10 02:11:09 20   8    316         00:14:bf:3b:c7:c6 -52   \n",
       "1181601 2006-03-10 02:11:09 20   8    316         00:14:bf:b1:97:8d -62   \n",
       "1181602 2006-03-10 02:11:09 20   8    316         00:14:bf:b1:97:81 -58   \n",
       "1181603 2006-03-10 02:11:09 20   8    316         00:14:bf:b1:97:8a -61   \n",
       "1181604 2006-03-10 02:11:09 20   8    316         00:0f:a3:39:dd:cd -77   \n",
       "1181606 2006-03-10 02:11:09 20   8    316         00:0f:a3:39:e1:c0 -54   \n",
       "1181607 2006-03-10 02:11:09 20   8    316         00:14:bf:3b:c7:c6 -58   \n",
       "1181608 2006-03-10 02:11:09 20   8    316         00:14:bf:b1:97:8d -56   \n",
       "1181609 2006-03-10 02:11:09 20   8    316         00:14:bf:b1:97:8a -60   \n",
       "1181610 2006-03-10 02:11:09 20   8    316         00:14:bf:b1:97:90 -69   \n",
       "1181611 2006-03-10 02:11:09 20   8    316         00:0f:a3:39:dd:cd -77   \n",
       "1181612 2006-03-10 02:11:09 20   8    316         00:14:bf:b1:97:81 -62   \n",
       "1181614 2006-03-10 02:11:10 20   8    316         00:14:bf:3b:c7:c6 -51   \n",
       "1181615 2006-03-10 02:11:10 20   8    316         00:0f:a3:39:e1:c0 -53   \n",
       "1181616 2006-03-10 02:11:10 20   8    316         00:14:bf:b1:97:8a -61   \n",
       "1181617 2006-03-10 02:11:10 20   8    316         00:14:bf:b1:97:81 -60   \n",
       "1181618 2006-03-10 02:11:10 20   8    316         00:14:bf:b1:97:8d -62   \n",
       "1181619 2006-03-10 02:11:10 20   8    316         00:0f:a3:39:dd:cd -77   \n",
       "1181621 2006-03-10 02:11:10 20   8    316         00:14:bf:3b:c7:c6 -56   \n",
       "1181622 2006-03-10 02:11:10 20   8    316         00:0f:a3:39:e1:c0 -53   \n",
       "1181623 2006-03-10 02:11:10 20   8    316         00:14:bf:b1:97:8d -61   \n",
       "1181624 2006-03-10 02:11:10 20   8    316         00:14:bf:b1:97:8a -60   \n",
       "1181625 2006-03-10 02:11:10 20   8    316         00:14:bf:b1:97:81 -60   \n",
       "1181626 2006-03-10 02:11:10 20   8    316         00:14:bf:b1:97:90 -68   \n",
       "1181627 2006-03-10 02:11:10 20   8    316         00:0f:a3:39:dd:cd -76   \n",
       "        rawTime  angle\n",
       "1       1.14e+12 0    \n",
       "2       1.14e+12 0    \n",
       "3       1.14e+12 0    \n",
       "4       1.14e+12 0    \n",
       "5       1.14e+12 0    \n",
       "6       1.14e+12 0    \n",
       "7       1.14e+12 0    \n",
       "12      1.14e+12 0    \n",
       "13      1.14e+12 0    \n",
       "14      1.14e+12 0    \n",
       "15      1.14e+12 0    \n",
       "16      1.14e+12 0    \n",
       "17      1.14e+12 0    \n",
       "19      1.14e+12 0    \n",
       "22      1.14e+12 0    \n",
       "23      1.14e+12 0    \n",
       "24      1.14e+12 0    \n",
       "25      1.14e+12 0    \n",
       "26      1.14e+12 0    \n",
       "27      1.14e+12 0    \n",
       "30      1.14e+12 0    \n",
       "32      1.14e+12 0    \n",
       "33      1.14e+12 0    \n",
       "34      1.14e+12 0    \n",
       "35      1.14e+12 0    \n",
       "36      1.14e+12 0    \n",
       "37      1.14e+12 0    \n",
       "38      1.14e+12 0    \n",
       "43      1.14e+12 0    \n",
       "44      1.14e+12 0    \n",
       "⋮       ⋮        ⋮    \n",
       "1181594 1.14e+12 315  \n",
       "1181595 1.14e+12 315  \n",
       "1181596 1.14e+12 315  \n",
       "1181597 1.14e+12 315  \n",
       "1181599 1.14e+12 315  \n",
       "1181600 1.14e+12 315  \n",
       "1181601 1.14e+12 315  \n",
       "1181602 1.14e+12 315  \n",
       "1181603 1.14e+12 315  \n",
       "1181604 1.14e+12 315  \n",
       "1181606 1.14e+12 315  \n",
       "1181607 1.14e+12 315  \n",
       "1181608 1.14e+12 315  \n",
       "1181609 1.14e+12 315  \n",
       "1181610 1.14e+12 315  \n",
       "1181611 1.14e+12 315  \n",
       "1181612 1.14e+12 315  \n",
       "1181614 1.14e+12 315  \n",
       "1181615 1.14e+12 315  \n",
       "1181616 1.14e+12 315  \n",
       "1181617 1.14e+12 315  \n",
       "1181618 1.14e+12 315  \n",
       "1181619 1.14e+12 315  \n",
       "1181621 1.14e+12 315  \n",
       "1181622 1.14e+12 315  \n",
       "1181623 1.14e+12 315  \n",
       "1181624 1.14e+12 315  \n",
       "1181625 1.14e+12 315  \n",
       "1181626 1.14e+12 315  \n",
       "1181627 1.14e+12 315  "
      ]
     },
     "metadata": {},
     "output_type": "display_data"
    }
   ],
   "source": [
    "sx = readData()\n",
    "sx"
   ]
  },
  {
   "cell_type": "code",
   "execution_count": 44,
   "metadata": {},
   "outputs": [
    {
     "data": {
      "text/html": [
       "FALSE"
      ],
      "text/latex": [
       "FALSE"
      ],
      "text/markdown": [
       "FALSE"
      ],
      "text/plain": [
       "[1] FALSE"
      ]
     },
     "metadata": {},
     "output_type": "display_data"
    }
   ],
   "source": [
    "offlineRedo = readData()\n",
    "\n",
    "identical(offline, offlineRedo)\n",
    "\n",
    "pdf(file = \"Geo_BoxplotSignalByMacAngle.pdf\", width = 7)\n",
    "oldPar = par(mar = c(3.1, 3, 1, 1))\n",
    "\n"
   ]
  },
  {
   "cell_type": "code",
   "execution_count": 46,
   "metadata": {},
   "outputs": [
    {
     "data": {
      "text/html": [
       "<table>\n",
       "<thead><tr><th></th><th scope=col>time</th><th scope=col>scanMac</th><th scope=col>posX</th><th scope=col>posY</th><th scope=col>posZ</th><th scope=col>orientation</th><th scope=col>mac</th><th scope=col>signal</th></tr></thead>\n",
       "<tbody>\n",
       "\t<tr><th scope=row>1</th><td>1.14e+12         </td><td>00:02:2D:21:0F:33</td><td>0                </td><td>0                </td><td>0                </td><td>0                </td><td>00:14:bf:b1:97:8a</td><td>-38              </td></tr>\n",
       "\t<tr><th scope=row>2</th><td>1.14e+12         </td><td>00:02:2D:21:0F:33</td><td>0                </td><td>0                </td><td>0                </td><td>0                </td><td>00:14:bf:b1:97:90</td><td>-56              </td></tr>\n",
       "\t<tr><th scope=row>3</th><td>1.14e+12         </td><td>00:02:2D:21:0F:33</td><td>0                </td><td>0                </td><td>0                </td><td>0                </td><td>00:0f:a3:39:e1:c0</td><td>-53              </td></tr>\n",
       "\t<tr><th scope=row>4</th><td>1.14e+12         </td><td>00:02:2D:21:0F:33</td><td>0                </td><td>0                </td><td>0                </td><td>0                </td><td>00:14:bf:b1:97:8d</td><td>-65              </td></tr>\n",
       "\t<tr><th scope=row>5</th><td>1.14e+12         </td><td>00:02:2D:21:0F:33</td><td>0                </td><td>0                </td><td>0                </td><td>0                </td><td>00:14:bf:b1:97:81</td><td>-65              </td></tr>\n",
       "\t<tr><th scope=row>6</th><td>1.14e+12         </td><td>00:02:2D:21:0F:33</td><td>0                </td><td>0                </td><td>0                </td><td>0                </td><td>00:14:bf:3b:c7:c6</td><td>-66              </td></tr>\n",
       "\t<tr><th scope=row>7</th><td>1.14e+12         </td><td>00:02:2D:21:0F:33</td><td>0                </td><td>0                </td><td>0                </td><td>0                </td><td>00:0f:a3:39:dd:cd</td><td>-75              </td></tr>\n",
       "\t<tr><th scope=row>12</th><td>1.14e+12         </td><td>00:02:2D:21:0F:33</td><td>0                </td><td>0                </td><td>0                </td><td>0                </td><td>00:14:bf:b1:97:8a</td><td>-38              </td></tr>\n",
       "\t<tr><th scope=row>13</th><td>1.14e+12         </td><td>00:02:2D:21:0F:33</td><td>0                </td><td>0                </td><td>0                </td><td>0                </td><td>00:0f:a3:39:e1:c0</td><td>-54              </td></tr>\n",
       "\t<tr><th scope=row>14</th><td>1.14e+12         </td><td>00:02:2D:21:0F:33</td><td>0                </td><td>0                </td><td>0                </td><td>0                </td><td>00:14:bf:b1:97:90</td><td>-56              </td></tr>\n",
       "\t<tr><th scope=row>15</th><td>1.14e+12         </td><td>00:02:2D:21:0F:33</td><td>0                </td><td>0                </td><td>0                </td><td>0                </td><td>00:14:bf:3b:c7:c6</td><td>-67              </td></tr>\n",
       "\t<tr><th scope=row>16</th><td>1.14e+12         </td><td>00:02:2D:21:0F:33</td><td>0                </td><td>0                </td><td>0                </td><td>0                </td><td>00:14:bf:b1:97:81</td><td>-66              </td></tr>\n",
       "\t<tr><th scope=row>17</th><td>1.14e+12         </td><td>00:02:2D:21:0F:33</td><td>0                </td><td>0                </td><td>0                </td><td>0                </td><td>00:14:bf:b1:97:8d</td><td>-70              </td></tr>\n",
       "\t<tr><th scope=row>19</th><td>1.14e+12         </td><td>00:02:2D:21:0F:33</td><td>0                </td><td>0                </td><td>0                </td><td>0                </td><td>00:0f:a3:39:dd:cd</td><td>-73              </td></tr>\n",
       "\t<tr><th scope=row>22</th><td>1.14e+12         </td><td>00:02:2D:21:0F:33</td><td>0                </td><td>0                </td><td>0                </td><td>0                </td><td>00:14:bf:b1:97:8a</td><td>-38              </td></tr>\n",
       "\t<tr><th scope=row>23</th><td>1.14e+12         </td><td>00:02:2D:21:0F:33</td><td>0                </td><td>0                </td><td>0                </td><td>0                </td><td>00:0f:a3:39:e1:c0</td><td>-54              </td></tr>\n",
       "\t<tr><th scope=row>24</th><td>1.14e+12         </td><td>00:02:2D:21:0F:33</td><td>0                </td><td>0                </td><td>0                </td><td>0                </td><td>00:14:bf:b1:97:90</td><td>-57              </td></tr>\n",
       "\t<tr><th scope=row>25</th><td>1.14e+12         </td><td>00:02:2D:21:0F:33</td><td>0                </td><td>0                </td><td>0                </td><td>0                </td><td>00:14:bf:b1:97:81</td><td>-66              </td></tr>\n",
       "\t<tr><th scope=row>26</th><td>1.14e+12         </td><td>00:02:2D:21:0F:33</td><td>0                </td><td>0                </td><td>0                </td><td>0                </td><td>00:14:bf:3b:c7:c6</td><td>-69              </td></tr>\n",
       "\t<tr><th scope=row>27</th><td>1.14e+12         </td><td>00:02:2D:21:0F:33</td><td>0                </td><td>0                </td><td>0                </td><td>0                </td><td>00:14:bf:b1:97:8d</td><td>-70              </td></tr>\n",
       "\t<tr><th scope=row>30</th><td>1.14e+12         </td><td>00:02:2D:21:0F:33</td><td>0                </td><td>0                </td><td>0                </td><td>0                </td><td>00:0f:a3:39:dd:cd</td><td>-65              </td></tr>\n",
       "\t<tr><th scope=row>32</th><td>1.14e+12         </td><td>00:02:2D:21:0F:33</td><td>0                </td><td>0                </td><td>0                </td><td>0                </td><td>00:14:bf:b1:97:8a</td><td>-38              </td></tr>\n",
       "\t<tr><th scope=row>33</th><td>1.14e+12         </td><td>00:02:2D:21:0F:33</td><td>0                </td><td>0                </td><td>0                </td><td>0                </td><td>00:14:bf:b1:97:90</td><td>-52              </td></tr>\n",
       "\t<tr><th scope=row>34</th><td>1.14e+12         </td><td>00:02:2D:21:0F:33</td><td>0                </td><td>0                </td><td>0                </td><td>0                </td><td>00:0f:a3:39:e1:c0</td><td>-54              </td></tr>\n",
       "\t<tr><th scope=row>35</th><td>1.14e+12         </td><td>00:02:2D:21:0F:33</td><td>0                </td><td>0                </td><td>0                </td><td>0                </td><td>00:14:bf:b1:97:81</td><td>-64              </td></tr>\n",
       "\t<tr><th scope=row>36</th><td>1.14e+12         </td><td>00:02:2D:21:0F:33</td><td>0                </td><td>0                </td><td>0                </td><td>0                </td><td>00:14:bf:3b:c7:c6</td><td>-68              </td></tr>\n",
       "\t<tr><th scope=row>37</th><td>1.14e+12         </td><td>00:02:2D:21:0F:33</td><td>0                </td><td>0                </td><td>0                </td><td>0                </td><td>00:14:bf:b1:97:8d</td><td>-74              </td></tr>\n",
       "\t<tr><th scope=row>38</th><td>1.14e+12         </td><td>00:02:2D:21:0F:33</td><td>0                </td><td>0                </td><td>0                </td><td>0                </td><td>00:0f:a3:39:dd:cd</td><td>-78              </td></tr>\n",
       "\t<tr><th scope=row>43</th><td>1.14e+12         </td><td>00:02:2D:21:0F:33</td><td>0                </td><td>0                </td><td>0                </td><td>0                </td><td>00:14:bf:b1:97:8a</td><td>-46              </td></tr>\n",
       "\t<tr><th scope=row>44</th><td>1.14e+12         </td><td>00:02:2D:21:0F:33</td><td>0                </td><td>0                </td><td>0                </td><td>0                </td><td>00:0f:a3:39:e1:c0</td><td>-55              </td></tr>\n",
       "\t<tr><th scope=row>⋮</th><td>⋮</td><td>⋮</td><td>⋮</td><td>⋮</td><td>⋮</td><td>⋮</td><td>⋮</td><td>⋮</td></tr>\n",
       "\t<tr><th scope=row>1181594</th><td>1.14e+12         </td><td>00:02:2D:21:0F:33</td><td>20               </td><td>8                </td><td>0                </td><td>316              </td><td>00:14:bf:b1:97:8d</td><td>-56              </td></tr>\n",
       "\t<tr><th scope=row>1181595</th><td>1.14e+12         </td><td>00:02:2D:21:0F:33</td><td>20               </td><td>8                </td><td>0                </td><td>316              </td><td>00:14:bf:b1:97:8a</td><td>-60              </td></tr>\n",
       "\t<tr><th scope=row>1181596</th><td>1.14e+12         </td><td>00:02:2D:21:0F:33</td><td>20               </td><td>8                </td><td>0                </td><td>316              </td><td>00:14:bf:b1:97:90</td><td>-69              </td></tr>\n",
       "\t<tr><th scope=row>1181597</th><td>1.14e+12         </td><td>00:02:2D:21:0F:33</td><td>20               </td><td>8                </td><td>0                </td><td>316              </td><td>00:0f:a3:39:dd:cd</td><td>-76              </td></tr>\n",
       "\t<tr><th scope=row>1181599</th><td>1.14e+12         </td><td>00:02:2D:21:0F:33</td><td>20               </td><td>8                </td><td>0                </td><td>316              </td><td>00:0f:a3:39:e1:c0</td><td>-53              </td></tr>\n",
       "\t<tr><th scope=row>1181600</th><td>1.14e+12         </td><td>00:02:2D:21:0F:33</td><td>20               </td><td>8                </td><td>0                </td><td>316              </td><td>00:14:bf:3b:c7:c6</td><td>-52              </td></tr>\n",
       "\t<tr><th scope=row>1181601</th><td>1.14e+12         </td><td>00:02:2D:21:0F:33</td><td>20               </td><td>8                </td><td>0                </td><td>316              </td><td>00:14:bf:b1:97:8d</td><td>-62              </td></tr>\n",
       "\t<tr><th scope=row>1181602</th><td>1.14e+12         </td><td>00:02:2D:21:0F:33</td><td>20               </td><td>8                </td><td>0                </td><td>316              </td><td>00:14:bf:b1:97:81</td><td>-58              </td></tr>\n",
       "\t<tr><th scope=row>1181603</th><td>1.14e+12         </td><td>00:02:2D:21:0F:33</td><td>20               </td><td>8                </td><td>0                </td><td>316              </td><td>00:14:bf:b1:97:8a</td><td>-61              </td></tr>\n",
       "\t<tr><th scope=row>1181604</th><td>1.14e+12         </td><td>00:02:2D:21:0F:33</td><td>20               </td><td>8                </td><td>0                </td><td>316              </td><td>00:0f:a3:39:dd:cd</td><td>-77              </td></tr>\n",
       "\t<tr><th scope=row>1181606</th><td>1.14e+12         </td><td>00:02:2D:21:0F:33</td><td>20               </td><td>8                </td><td>0                </td><td>316              </td><td>00:0f:a3:39:e1:c0</td><td>-54              </td></tr>\n",
       "\t<tr><th scope=row>1181607</th><td>1.14e+12         </td><td>00:02:2D:21:0F:33</td><td>20               </td><td>8                </td><td>0                </td><td>316              </td><td>00:14:bf:3b:c7:c6</td><td>-58              </td></tr>\n",
       "\t<tr><th scope=row>1181608</th><td>1.14e+12         </td><td>00:02:2D:21:0F:33</td><td>20               </td><td>8                </td><td>0                </td><td>316              </td><td>00:14:bf:b1:97:8d</td><td>-56              </td></tr>\n",
       "\t<tr><th scope=row>1181609</th><td>1.14e+12         </td><td>00:02:2D:21:0F:33</td><td>20               </td><td>8                </td><td>0                </td><td>316              </td><td>00:14:bf:b1:97:8a</td><td>-60              </td></tr>\n",
       "\t<tr><th scope=row>1181610</th><td>1.14e+12         </td><td>00:02:2D:21:0F:33</td><td>20               </td><td>8                </td><td>0                </td><td>316              </td><td>00:14:bf:b1:97:90</td><td>-69              </td></tr>\n",
       "\t<tr><th scope=row>1181611</th><td>1.14e+12         </td><td>00:02:2D:21:0F:33</td><td>20               </td><td>8                </td><td>0                </td><td>316              </td><td>00:0f:a3:39:dd:cd</td><td>-77              </td></tr>\n",
       "\t<tr><th scope=row>1181612</th><td>1.14e+12         </td><td>00:02:2D:21:0F:33</td><td>20               </td><td>8                </td><td>0                </td><td>316              </td><td>00:14:bf:b1:97:81</td><td>-62              </td></tr>\n",
       "\t<tr><th scope=row>1181614</th><td>1.14e+12         </td><td>00:02:2D:21:0F:33</td><td>20               </td><td>8                </td><td>0                </td><td>316              </td><td>00:14:bf:3b:c7:c6</td><td>-51              </td></tr>\n",
       "\t<tr><th scope=row>1181615</th><td>1.14e+12         </td><td>00:02:2D:21:0F:33</td><td>20               </td><td>8                </td><td>0                </td><td>316              </td><td>00:0f:a3:39:e1:c0</td><td>-53              </td></tr>\n",
       "\t<tr><th scope=row>1181616</th><td>1.14e+12         </td><td>00:02:2D:21:0F:33</td><td>20               </td><td>8                </td><td>0                </td><td>316              </td><td>00:14:bf:b1:97:8a</td><td>-61              </td></tr>\n",
       "\t<tr><th scope=row>1181617</th><td>1.14e+12         </td><td>00:02:2D:21:0F:33</td><td>20               </td><td>8                </td><td>0                </td><td>316              </td><td>00:14:bf:b1:97:81</td><td>-60              </td></tr>\n",
       "\t<tr><th scope=row>1181618</th><td>1.14e+12         </td><td>00:02:2D:21:0F:33</td><td>20               </td><td>8                </td><td>0                </td><td>316              </td><td>00:14:bf:b1:97:8d</td><td>-62              </td></tr>\n",
       "\t<tr><th scope=row>1181619</th><td>1.14e+12         </td><td>00:02:2D:21:0F:33</td><td>20               </td><td>8                </td><td>0                </td><td>316              </td><td>00:0f:a3:39:dd:cd</td><td>-77              </td></tr>\n",
       "\t<tr><th scope=row>1181621</th><td>1.14e+12         </td><td>00:02:2D:21:0F:33</td><td>20               </td><td>8                </td><td>0                </td><td>316              </td><td>00:14:bf:3b:c7:c6</td><td>-56              </td></tr>\n",
       "\t<tr><th scope=row>1181622</th><td>1.14e+12         </td><td>00:02:2D:21:0F:33</td><td>20               </td><td>8                </td><td>0                </td><td>316              </td><td>00:0f:a3:39:e1:c0</td><td>-53              </td></tr>\n",
       "\t<tr><th scope=row>1181623</th><td>1.14e+12         </td><td>00:02:2D:21:0F:33</td><td>20               </td><td>8                </td><td>0                </td><td>316              </td><td>00:14:bf:b1:97:8d</td><td>-61              </td></tr>\n",
       "\t<tr><th scope=row>1181624</th><td>1.14e+12         </td><td>00:02:2D:21:0F:33</td><td>20               </td><td>8                </td><td>0                </td><td>316              </td><td>00:14:bf:b1:97:8a</td><td>-60              </td></tr>\n",
       "\t<tr><th scope=row>1181625</th><td>1.14e+12         </td><td>00:02:2D:21:0F:33</td><td>20               </td><td>8                </td><td>0                </td><td>316              </td><td>00:14:bf:b1:97:81</td><td>-60              </td></tr>\n",
       "\t<tr><th scope=row>1181626</th><td>1.14e+12         </td><td>00:02:2D:21:0F:33</td><td>20               </td><td>8                </td><td>0                </td><td>316              </td><td>00:14:bf:b1:97:90</td><td>-68              </td></tr>\n",
       "\t<tr><th scope=row>1181627</th><td>1.14e+12         </td><td>00:02:2D:21:0F:33</td><td>20               </td><td>8                </td><td>0                </td><td>316              </td><td>00:0f:a3:39:dd:cd</td><td>-76              </td></tr>\n",
       "</tbody>\n",
       "</table>\n"
      ],
      "text/latex": [
       "\\begin{tabular}{r|llllllll}\n",
       "  & time & scanMac & posX & posY & posZ & orientation & mac & signal\\\\\n",
       "\\hline\n",
       "\t1 & 1.14e+12          & 00:02:2D:21:0F:33 & 0                 & 0                 & 0                 & 0                 & 00:14:bf:b1:97:8a & -38              \\\\\n",
       "\t2 & 1.14e+12          & 00:02:2D:21:0F:33 & 0                 & 0                 & 0                 & 0                 & 00:14:bf:b1:97:90 & -56              \\\\\n",
       "\t3 & 1.14e+12          & 00:02:2D:21:0F:33 & 0                 & 0                 & 0                 & 0                 & 00:0f:a3:39:e1:c0 & -53              \\\\\n",
       "\t4 & 1.14e+12          & 00:02:2D:21:0F:33 & 0                 & 0                 & 0                 & 0                 & 00:14:bf:b1:97:8d & -65              \\\\\n",
       "\t5 & 1.14e+12          & 00:02:2D:21:0F:33 & 0                 & 0                 & 0                 & 0                 & 00:14:bf:b1:97:81 & -65              \\\\\n",
       "\t6 & 1.14e+12          & 00:02:2D:21:0F:33 & 0                 & 0                 & 0                 & 0                 & 00:14:bf:3b:c7:c6 & -66              \\\\\n",
       "\t7 & 1.14e+12          & 00:02:2D:21:0F:33 & 0                 & 0                 & 0                 & 0                 & 00:0f:a3:39:dd:cd & -75              \\\\\n",
       "\t12 & 1.14e+12          & 00:02:2D:21:0F:33 & 0                 & 0                 & 0                 & 0                 & 00:14:bf:b1:97:8a & -38              \\\\\n",
       "\t13 & 1.14e+12          & 00:02:2D:21:0F:33 & 0                 & 0                 & 0                 & 0                 & 00:0f:a3:39:e1:c0 & -54              \\\\\n",
       "\t14 & 1.14e+12          & 00:02:2D:21:0F:33 & 0                 & 0                 & 0                 & 0                 & 00:14:bf:b1:97:90 & -56              \\\\\n",
       "\t15 & 1.14e+12          & 00:02:2D:21:0F:33 & 0                 & 0                 & 0                 & 0                 & 00:14:bf:3b:c7:c6 & -67              \\\\\n",
       "\t16 & 1.14e+12          & 00:02:2D:21:0F:33 & 0                 & 0                 & 0                 & 0                 & 00:14:bf:b1:97:81 & -66              \\\\\n",
       "\t17 & 1.14e+12          & 00:02:2D:21:0F:33 & 0                 & 0                 & 0                 & 0                 & 00:14:bf:b1:97:8d & -70              \\\\\n",
       "\t19 & 1.14e+12          & 00:02:2D:21:0F:33 & 0                 & 0                 & 0                 & 0                 & 00:0f:a3:39:dd:cd & -73              \\\\\n",
       "\t22 & 1.14e+12          & 00:02:2D:21:0F:33 & 0                 & 0                 & 0                 & 0                 & 00:14:bf:b1:97:8a & -38              \\\\\n",
       "\t23 & 1.14e+12          & 00:02:2D:21:0F:33 & 0                 & 0                 & 0                 & 0                 & 00:0f:a3:39:e1:c0 & -54              \\\\\n",
       "\t24 & 1.14e+12          & 00:02:2D:21:0F:33 & 0                 & 0                 & 0                 & 0                 & 00:14:bf:b1:97:90 & -57              \\\\\n",
       "\t25 & 1.14e+12          & 00:02:2D:21:0F:33 & 0                 & 0                 & 0                 & 0                 & 00:14:bf:b1:97:81 & -66              \\\\\n",
       "\t26 & 1.14e+12          & 00:02:2D:21:0F:33 & 0                 & 0                 & 0                 & 0                 & 00:14:bf:3b:c7:c6 & -69              \\\\\n",
       "\t27 & 1.14e+12          & 00:02:2D:21:0F:33 & 0                 & 0                 & 0                 & 0                 & 00:14:bf:b1:97:8d & -70              \\\\\n",
       "\t30 & 1.14e+12          & 00:02:2D:21:0F:33 & 0                 & 0                 & 0                 & 0                 & 00:0f:a3:39:dd:cd & -65              \\\\\n",
       "\t32 & 1.14e+12          & 00:02:2D:21:0F:33 & 0                 & 0                 & 0                 & 0                 & 00:14:bf:b1:97:8a & -38              \\\\\n",
       "\t33 & 1.14e+12          & 00:02:2D:21:0F:33 & 0                 & 0                 & 0                 & 0                 & 00:14:bf:b1:97:90 & -52              \\\\\n",
       "\t34 & 1.14e+12          & 00:02:2D:21:0F:33 & 0                 & 0                 & 0                 & 0                 & 00:0f:a3:39:e1:c0 & -54              \\\\\n",
       "\t35 & 1.14e+12          & 00:02:2D:21:0F:33 & 0                 & 0                 & 0                 & 0                 & 00:14:bf:b1:97:81 & -64              \\\\\n",
       "\t36 & 1.14e+12          & 00:02:2D:21:0F:33 & 0                 & 0                 & 0                 & 0                 & 00:14:bf:3b:c7:c6 & -68              \\\\\n",
       "\t37 & 1.14e+12          & 00:02:2D:21:0F:33 & 0                 & 0                 & 0                 & 0                 & 00:14:bf:b1:97:8d & -74              \\\\\n",
       "\t38 & 1.14e+12          & 00:02:2D:21:0F:33 & 0                 & 0                 & 0                 & 0                 & 00:0f:a3:39:dd:cd & -78              \\\\\n",
       "\t43 & 1.14e+12          & 00:02:2D:21:0F:33 & 0                 & 0                 & 0                 & 0                 & 00:14:bf:b1:97:8a & -46              \\\\\n",
       "\t44 & 1.14e+12          & 00:02:2D:21:0F:33 & 0                 & 0                 & 0                 & 0                 & 00:0f:a3:39:e1:c0 & -55              \\\\\n",
       "\t⋮ & ⋮ & ⋮ & ⋮ & ⋮ & ⋮ & ⋮ & ⋮ & ⋮\\\\\n",
       "\t1181594 & 1.14e+12          & 00:02:2D:21:0F:33 & 20                & 8                 & 0                 & 316               & 00:14:bf:b1:97:8d & -56              \\\\\n",
       "\t1181595 & 1.14e+12          & 00:02:2D:21:0F:33 & 20                & 8                 & 0                 & 316               & 00:14:bf:b1:97:8a & -60              \\\\\n",
       "\t1181596 & 1.14e+12          & 00:02:2D:21:0F:33 & 20                & 8                 & 0                 & 316               & 00:14:bf:b1:97:90 & -69              \\\\\n",
       "\t1181597 & 1.14e+12          & 00:02:2D:21:0F:33 & 20                & 8                 & 0                 & 316               & 00:0f:a3:39:dd:cd & -76              \\\\\n",
       "\t1181599 & 1.14e+12          & 00:02:2D:21:0F:33 & 20                & 8                 & 0                 & 316               & 00:0f:a3:39:e1:c0 & -53              \\\\\n",
       "\t1181600 & 1.14e+12          & 00:02:2D:21:0F:33 & 20                & 8                 & 0                 & 316               & 00:14:bf:3b:c7:c6 & -52              \\\\\n",
       "\t1181601 & 1.14e+12          & 00:02:2D:21:0F:33 & 20                & 8                 & 0                 & 316               & 00:14:bf:b1:97:8d & -62              \\\\\n",
       "\t1181602 & 1.14e+12          & 00:02:2D:21:0F:33 & 20                & 8                 & 0                 & 316               & 00:14:bf:b1:97:81 & -58              \\\\\n",
       "\t1181603 & 1.14e+12          & 00:02:2D:21:0F:33 & 20                & 8                 & 0                 & 316               & 00:14:bf:b1:97:8a & -61              \\\\\n",
       "\t1181604 & 1.14e+12          & 00:02:2D:21:0F:33 & 20                & 8                 & 0                 & 316               & 00:0f:a3:39:dd:cd & -77              \\\\\n",
       "\t1181606 & 1.14e+12          & 00:02:2D:21:0F:33 & 20                & 8                 & 0                 & 316               & 00:0f:a3:39:e1:c0 & -54              \\\\\n",
       "\t1181607 & 1.14e+12          & 00:02:2D:21:0F:33 & 20                & 8                 & 0                 & 316               & 00:14:bf:3b:c7:c6 & -58              \\\\\n",
       "\t1181608 & 1.14e+12          & 00:02:2D:21:0F:33 & 20                & 8                 & 0                 & 316               & 00:14:bf:b1:97:8d & -56              \\\\\n",
       "\t1181609 & 1.14e+12          & 00:02:2D:21:0F:33 & 20                & 8                 & 0                 & 316               & 00:14:bf:b1:97:8a & -60              \\\\\n",
       "\t1181610 & 1.14e+12          & 00:02:2D:21:0F:33 & 20                & 8                 & 0                 & 316               & 00:14:bf:b1:97:90 & -69              \\\\\n",
       "\t1181611 & 1.14e+12          & 00:02:2D:21:0F:33 & 20                & 8                 & 0                 & 316               & 00:0f:a3:39:dd:cd & -77              \\\\\n",
       "\t1181612 & 1.14e+12          & 00:02:2D:21:0F:33 & 20                & 8                 & 0                 & 316               & 00:14:bf:b1:97:81 & -62              \\\\\n",
       "\t1181614 & 1.14e+12          & 00:02:2D:21:0F:33 & 20                & 8                 & 0                 & 316               & 00:14:bf:3b:c7:c6 & -51              \\\\\n",
       "\t1181615 & 1.14e+12          & 00:02:2D:21:0F:33 & 20                & 8                 & 0                 & 316               & 00:0f:a3:39:e1:c0 & -53              \\\\\n",
       "\t1181616 & 1.14e+12          & 00:02:2D:21:0F:33 & 20                & 8                 & 0                 & 316               & 00:14:bf:b1:97:8a & -61              \\\\\n",
       "\t1181617 & 1.14e+12          & 00:02:2D:21:0F:33 & 20                & 8                 & 0                 & 316               & 00:14:bf:b1:97:81 & -60              \\\\\n",
       "\t1181618 & 1.14e+12          & 00:02:2D:21:0F:33 & 20                & 8                 & 0                 & 316               & 00:14:bf:b1:97:8d & -62              \\\\\n",
       "\t1181619 & 1.14e+12          & 00:02:2D:21:0F:33 & 20                & 8                 & 0                 & 316               & 00:0f:a3:39:dd:cd & -77              \\\\\n",
       "\t1181621 & 1.14e+12          & 00:02:2D:21:0F:33 & 20                & 8                 & 0                 & 316               & 00:14:bf:3b:c7:c6 & -56              \\\\\n",
       "\t1181622 & 1.14e+12          & 00:02:2D:21:0F:33 & 20                & 8                 & 0                 & 316               & 00:0f:a3:39:e1:c0 & -53              \\\\\n",
       "\t1181623 & 1.14e+12          & 00:02:2D:21:0F:33 & 20                & 8                 & 0                 & 316               & 00:14:bf:b1:97:8d & -61              \\\\\n",
       "\t1181624 & 1.14e+12          & 00:02:2D:21:0F:33 & 20                & 8                 & 0                 & 316               & 00:14:bf:b1:97:8a & -60              \\\\\n",
       "\t1181625 & 1.14e+12          & 00:02:2D:21:0F:33 & 20                & 8                 & 0                 & 316               & 00:14:bf:b1:97:81 & -60              \\\\\n",
       "\t1181626 & 1.14e+12          & 00:02:2D:21:0F:33 & 20                & 8                 & 0                 & 316               & 00:14:bf:b1:97:90 & -68              \\\\\n",
       "\t1181627 & 1.14e+12          & 00:02:2D:21:0F:33 & 20                & 8                 & 0                 & 316               & 00:0f:a3:39:dd:cd & -76              \\\\\n",
       "\\end{tabular}\n"
      ],
      "text/markdown": [
       "\n",
       "| <!--/--> | time | scanMac | posX | posY | posZ | orientation | mac | signal | \n",
       "|---|---|---|---|---|---|---|---|---|---|---|---|---|---|---|---|---|---|---|---|---|---|---|---|---|---|---|---|---|---|---|---|---|---|---|---|---|---|---|---|---|---|---|---|---|---|---|---|---|---|---|---|---|---|---|---|---|---|---|---|---|\n",
       "| 1 | 1.14e+12          | 00:02:2D:21:0F:33 | 0                 | 0                 | 0                 | 0                 | 00:14:bf:b1:97:8a | -38               | \n",
       "| 2 | 1.14e+12          | 00:02:2D:21:0F:33 | 0                 | 0                 | 0                 | 0                 | 00:14:bf:b1:97:90 | -56               | \n",
       "| 3 | 1.14e+12          | 00:02:2D:21:0F:33 | 0                 | 0                 | 0                 | 0                 | 00:0f:a3:39:e1:c0 | -53               | \n",
       "| 4 | 1.14e+12          | 00:02:2D:21:0F:33 | 0                 | 0                 | 0                 | 0                 | 00:14:bf:b1:97:8d | -65               | \n",
       "| 5 | 1.14e+12          | 00:02:2D:21:0F:33 | 0                 | 0                 | 0                 | 0                 | 00:14:bf:b1:97:81 | -65               | \n",
       "| 6 | 1.14e+12          | 00:02:2D:21:0F:33 | 0                 | 0                 | 0                 | 0                 | 00:14:bf:3b:c7:c6 | -66               | \n",
       "| 7 | 1.14e+12          | 00:02:2D:21:0F:33 | 0                 | 0                 | 0                 | 0                 | 00:0f:a3:39:dd:cd | -75               | \n",
       "| 12 | 1.14e+12          | 00:02:2D:21:0F:33 | 0                 | 0                 | 0                 | 0                 | 00:14:bf:b1:97:8a | -38               | \n",
       "| 13 | 1.14e+12          | 00:02:2D:21:0F:33 | 0                 | 0                 | 0                 | 0                 | 00:0f:a3:39:e1:c0 | -54               | \n",
       "| 14 | 1.14e+12          | 00:02:2D:21:0F:33 | 0                 | 0                 | 0                 | 0                 | 00:14:bf:b1:97:90 | -56               | \n",
       "| 15 | 1.14e+12          | 00:02:2D:21:0F:33 | 0                 | 0                 | 0                 | 0                 | 00:14:bf:3b:c7:c6 | -67               | \n",
       "| 16 | 1.14e+12          | 00:02:2D:21:0F:33 | 0                 | 0                 | 0                 | 0                 | 00:14:bf:b1:97:81 | -66               | \n",
       "| 17 | 1.14e+12          | 00:02:2D:21:0F:33 | 0                 | 0                 | 0                 | 0                 | 00:14:bf:b1:97:8d | -70               | \n",
       "| 19 | 1.14e+12          | 00:02:2D:21:0F:33 | 0                 | 0                 | 0                 | 0                 | 00:0f:a3:39:dd:cd | -73               | \n",
       "| 22 | 1.14e+12          | 00:02:2D:21:0F:33 | 0                 | 0                 | 0                 | 0                 | 00:14:bf:b1:97:8a | -38               | \n",
       "| 23 | 1.14e+12          | 00:02:2D:21:0F:33 | 0                 | 0                 | 0                 | 0                 | 00:0f:a3:39:e1:c0 | -54               | \n",
       "| 24 | 1.14e+12          | 00:02:2D:21:0F:33 | 0                 | 0                 | 0                 | 0                 | 00:14:bf:b1:97:90 | -57               | \n",
       "| 25 | 1.14e+12          | 00:02:2D:21:0F:33 | 0                 | 0                 | 0                 | 0                 | 00:14:bf:b1:97:81 | -66               | \n",
       "| 26 | 1.14e+12          | 00:02:2D:21:0F:33 | 0                 | 0                 | 0                 | 0                 | 00:14:bf:3b:c7:c6 | -69               | \n",
       "| 27 | 1.14e+12          | 00:02:2D:21:0F:33 | 0                 | 0                 | 0                 | 0                 | 00:14:bf:b1:97:8d | -70               | \n",
       "| 30 | 1.14e+12          | 00:02:2D:21:0F:33 | 0                 | 0                 | 0                 | 0                 | 00:0f:a3:39:dd:cd | -65               | \n",
       "| 32 | 1.14e+12          | 00:02:2D:21:0F:33 | 0                 | 0                 | 0                 | 0                 | 00:14:bf:b1:97:8a | -38               | \n",
       "| 33 | 1.14e+12          | 00:02:2D:21:0F:33 | 0                 | 0                 | 0                 | 0                 | 00:14:bf:b1:97:90 | -52               | \n",
       "| 34 | 1.14e+12          | 00:02:2D:21:0F:33 | 0                 | 0                 | 0                 | 0                 | 00:0f:a3:39:e1:c0 | -54               | \n",
       "| 35 | 1.14e+12          | 00:02:2D:21:0F:33 | 0                 | 0                 | 0                 | 0                 | 00:14:bf:b1:97:81 | -64               | \n",
       "| 36 | 1.14e+12          | 00:02:2D:21:0F:33 | 0                 | 0                 | 0                 | 0                 | 00:14:bf:3b:c7:c6 | -68               | \n",
       "| 37 | 1.14e+12          | 00:02:2D:21:0F:33 | 0                 | 0                 | 0                 | 0                 | 00:14:bf:b1:97:8d | -74               | \n",
       "| 38 | 1.14e+12          | 00:02:2D:21:0F:33 | 0                 | 0                 | 0                 | 0                 | 00:0f:a3:39:dd:cd | -78               | \n",
       "| 43 | 1.14e+12          | 00:02:2D:21:0F:33 | 0                 | 0                 | 0                 | 0                 | 00:14:bf:b1:97:8a | -46               | \n",
       "| 44 | 1.14e+12          | 00:02:2D:21:0F:33 | 0                 | 0                 | 0                 | 0                 | 00:0f:a3:39:e1:c0 | -55               | \n",
       "| ⋮ | ⋮ | ⋮ | ⋮ | ⋮ | ⋮ | ⋮ | ⋮ | ⋮ | \n",
       "| 1181594 | 1.14e+12          | 00:02:2D:21:0F:33 | 20                | 8                 | 0                 | 316               | 00:14:bf:b1:97:8d | -56               | \n",
       "| 1181595 | 1.14e+12          | 00:02:2D:21:0F:33 | 20                | 8                 | 0                 | 316               | 00:14:bf:b1:97:8a | -60               | \n",
       "| 1181596 | 1.14e+12          | 00:02:2D:21:0F:33 | 20                | 8                 | 0                 | 316               | 00:14:bf:b1:97:90 | -69               | \n",
       "| 1181597 | 1.14e+12          | 00:02:2D:21:0F:33 | 20                | 8                 | 0                 | 316               | 00:0f:a3:39:dd:cd | -76               | \n",
       "| 1181599 | 1.14e+12          | 00:02:2D:21:0F:33 | 20                | 8                 | 0                 | 316               | 00:0f:a3:39:e1:c0 | -53               | \n",
       "| 1181600 | 1.14e+12          | 00:02:2D:21:0F:33 | 20                | 8                 | 0                 | 316               | 00:14:bf:3b:c7:c6 | -52               | \n",
       "| 1181601 | 1.14e+12          | 00:02:2D:21:0F:33 | 20                | 8                 | 0                 | 316               | 00:14:bf:b1:97:8d | -62               | \n",
       "| 1181602 | 1.14e+12          | 00:02:2D:21:0F:33 | 20                | 8                 | 0                 | 316               | 00:14:bf:b1:97:81 | -58               | \n",
       "| 1181603 | 1.14e+12          | 00:02:2D:21:0F:33 | 20                | 8                 | 0                 | 316               | 00:14:bf:b1:97:8a | -61               | \n",
       "| 1181604 | 1.14e+12          | 00:02:2D:21:0F:33 | 20                | 8                 | 0                 | 316               | 00:0f:a3:39:dd:cd | -77               | \n",
       "| 1181606 | 1.14e+12          | 00:02:2D:21:0F:33 | 20                | 8                 | 0                 | 316               | 00:0f:a3:39:e1:c0 | -54               | \n",
       "| 1181607 | 1.14e+12          | 00:02:2D:21:0F:33 | 20                | 8                 | 0                 | 316               | 00:14:bf:3b:c7:c6 | -58               | \n",
       "| 1181608 | 1.14e+12          | 00:02:2D:21:0F:33 | 20                | 8                 | 0                 | 316               | 00:14:bf:b1:97:8d | -56               | \n",
       "| 1181609 | 1.14e+12          | 00:02:2D:21:0F:33 | 20                | 8                 | 0                 | 316               | 00:14:bf:b1:97:8a | -60               | \n",
       "| 1181610 | 1.14e+12          | 00:02:2D:21:0F:33 | 20                | 8                 | 0                 | 316               | 00:14:bf:b1:97:90 | -69               | \n",
       "| 1181611 | 1.14e+12          | 00:02:2D:21:0F:33 | 20                | 8                 | 0                 | 316               | 00:0f:a3:39:dd:cd | -77               | \n",
       "| 1181612 | 1.14e+12          | 00:02:2D:21:0F:33 | 20                | 8                 | 0                 | 316               | 00:14:bf:b1:97:81 | -62               | \n",
       "| 1181614 | 1.14e+12          | 00:02:2D:21:0F:33 | 20                | 8                 | 0                 | 316               | 00:14:bf:3b:c7:c6 | -51               | \n",
       "| 1181615 | 1.14e+12          | 00:02:2D:21:0F:33 | 20                | 8                 | 0                 | 316               | 00:0f:a3:39:e1:c0 | -53               | \n",
       "| 1181616 | 1.14e+12          | 00:02:2D:21:0F:33 | 20                | 8                 | 0                 | 316               | 00:14:bf:b1:97:8a | -61               | \n",
       "| 1181617 | 1.14e+12          | 00:02:2D:21:0F:33 | 20                | 8                 | 0                 | 316               | 00:14:bf:b1:97:81 | -60               | \n",
       "| 1181618 | 1.14e+12          | 00:02:2D:21:0F:33 | 20                | 8                 | 0                 | 316               | 00:14:bf:b1:97:8d | -62               | \n",
       "| 1181619 | 1.14e+12          | 00:02:2D:21:0F:33 | 20                | 8                 | 0                 | 316               | 00:0f:a3:39:dd:cd | -77               | \n",
       "| 1181621 | 1.14e+12          | 00:02:2D:21:0F:33 | 20                | 8                 | 0                 | 316               | 00:14:bf:3b:c7:c6 | -56               | \n",
       "| 1181622 | 1.14e+12          | 00:02:2D:21:0F:33 | 20                | 8                 | 0                 | 316               | 00:0f:a3:39:e1:c0 | -53               | \n",
       "| 1181623 | 1.14e+12          | 00:02:2D:21:0F:33 | 20                | 8                 | 0                 | 316               | 00:14:bf:b1:97:8d | -61               | \n",
       "| 1181624 | 1.14e+12          | 00:02:2D:21:0F:33 | 20                | 8                 | 0                 | 316               | 00:14:bf:b1:97:8a | -60               | \n",
       "| 1181625 | 1.14e+12          | 00:02:2D:21:0F:33 | 20                | 8                 | 0                 | 316               | 00:14:bf:b1:97:81 | -60               | \n",
       "| 1181626 | 1.14e+12          | 00:02:2D:21:0F:33 | 20                | 8                 | 0                 | 316               | 00:14:bf:b1:97:90 | -68               | \n",
       "| 1181627 | 1.14e+12          | 00:02:2D:21:0F:33 | 20                | 8                 | 0                 | 316               | 00:0f:a3:39:dd:cd | -76               | \n",
       "\n",
       "\n"
      ],
      "text/plain": [
       "        time     scanMac           posX posY posZ orientation mac              \n",
       "1       1.14e+12 00:02:2D:21:0F:33 0    0    0    0           00:14:bf:b1:97:8a\n",
       "2       1.14e+12 00:02:2D:21:0F:33 0    0    0    0           00:14:bf:b1:97:90\n",
       "3       1.14e+12 00:02:2D:21:0F:33 0    0    0    0           00:0f:a3:39:e1:c0\n",
       "4       1.14e+12 00:02:2D:21:0F:33 0    0    0    0           00:14:bf:b1:97:8d\n",
       "5       1.14e+12 00:02:2D:21:0F:33 0    0    0    0           00:14:bf:b1:97:81\n",
       "6       1.14e+12 00:02:2D:21:0F:33 0    0    0    0           00:14:bf:3b:c7:c6\n",
       "7       1.14e+12 00:02:2D:21:0F:33 0    0    0    0           00:0f:a3:39:dd:cd\n",
       "12      1.14e+12 00:02:2D:21:0F:33 0    0    0    0           00:14:bf:b1:97:8a\n",
       "13      1.14e+12 00:02:2D:21:0F:33 0    0    0    0           00:0f:a3:39:e1:c0\n",
       "14      1.14e+12 00:02:2D:21:0F:33 0    0    0    0           00:14:bf:b1:97:90\n",
       "15      1.14e+12 00:02:2D:21:0F:33 0    0    0    0           00:14:bf:3b:c7:c6\n",
       "16      1.14e+12 00:02:2D:21:0F:33 0    0    0    0           00:14:bf:b1:97:81\n",
       "17      1.14e+12 00:02:2D:21:0F:33 0    0    0    0           00:14:bf:b1:97:8d\n",
       "19      1.14e+12 00:02:2D:21:0F:33 0    0    0    0           00:0f:a3:39:dd:cd\n",
       "22      1.14e+12 00:02:2D:21:0F:33 0    0    0    0           00:14:bf:b1:97:8a\n",
       "23      1.14e+12 00:02:2D:21:0F:33 0    0    0    0           00:0f:a3:39:e1:c0\n",
       "24      1.14e+12 00:02:2D:21:0F:33 0    0    0    0           00:14:bf:b1:97:90\n",
       "25      1.14e+12 00:02:2D:21:0F:33 0    0    0    0           00:14:bf:b1:97:81\n",
       "26      1.14e+12 00:02:2D:21:0F:33 0    0    0    0           00:14:bf:3b:c7:c6\n",
       "27      1.14e+12 00:02:2D:21:0F:33 0    0    0    0           00:14:bf:b1:97:8d\n",
       "30      1.14e+12 00:02:2D:21:0F:33 0    0    0    0           00:0f:a3:39:dd:cd\n",
       "32      1.14e+12 00:02:2D:21:0F:33 0    0    0    0           00:14:bf:b1:97:8a\n",
       "33      1.14e+12 00:02:2D:21:0F:33 0    0    0    0           00:14:bf:b1:97:90\n",
       "34      1.14e+12 00:02:2D:21:0F:33 0    0    0    0           00:0f:a3:39:e1:c0\n",
       "35      1.14e+12 00:02:2D:21:0F:33 0    0    0    0           00:14:bf:b1:97:81\n",
       "36      1.14e+12 00:02:2D:21:0F:33 0    0    0    0           00:14:bf:3b:c7:c6\n",
       "37      1.14e+12 00:02:2D:21:0F:33 0    0    0    0           00:14:bf:b1:97:8d\n",
       "38      1.14e+12 00:02:2D:21:0F:33 0    0    0    0           00:0f:a3:39:dd:cd\n",
       "43      1.14e+12 00:02:2D:21:0F:33 0    0    0    0           00:14:bf:b1:97:8a\n",
       "44      1.14e+12 00:02:2D:21:0F:33 0    0    0    0           00:0f:a3:39:e1:c0\n",
       "⋮       ⋮        ⋮                 ⋮    ⋮    ⋮    ⋮           ⋮                \n",
       "1181594 1.14e+12 00:02:2D:21:0F:33 20   8    0    316         00:14:bf:b1:97:8d\n",
       "1181595 1.14e+12 00:02:2D:21:0F:33 20   8    0    316         00:14:bf:b1:97:8a\n",
       "1181596 1.14e+12 00:02:2D:21:0F:33 20   8    0    316         00:14:bf:b1:97:90\n",
       "1181597 1.14e+12 00:02:2D:21:0F:33 20   8    0    316         00:0f:a3:39:dd:cd\n",
       "1181599 1.14e+12 00:02:2D:21:0F:33 20   8    0    316         00:0f:a3:39:e1:c0\n",
       "1181600 1.14e+12 00:02:2D:21:0F:33 20   8    0    316         00:14:bf:3b:c7:c6\n",
       "1181601 1.14e+12 00:02:2D:21:0F:33 20   8    0    316         00:14:bf:b1:97:8d\n",
       "1181602 1.14e+12 00:02:2D:21:0F:33 20   8    0    316         00:14:bf:b1:97:81\n",
       "1181603 1.14e+12 00:02:2D:21:0F:33 20   8    0    316         00:14:bf:b1:97:8a\n",
       "1181604 1.14e+12 00:02:2D:21:0F:33 20   8    0    316         00:0f:a3:39:dd:cd\n",
       "1181606 1.14e+12 00:02:2D:21:0F:33 20   8    0    316         00:0f:a3:39:e1:c0\n",
       "1181607 1.14e+12 00:02:2D:21:0F:33 20   8    0    316         00:14:bf:3b:c7:c6\n",
       "1181608 1.14e+12 00:02:2D:21:0F:33 20   8    0    316         00:14:bf:b1:97:8d\n",
       "1181609 1.14e+12 00:02:2D:21:0F:33 20   8    0    316         00:14:bf:b1:97:8a\n",
       "1181610 1.14e+12 00:02:2D:21:0F:33 20   8    0    316         00:14:bf:b1:97:90\n",
       "1181611 1.14e+12 00:02:2D:21:0F:33 20   8    0    316         00:0f:a3:39:dd:cd\n",
       "1181612 1.14e+12 00:02:2D:21:0F:33 20   8    0    316         00:14:bf:b1:97:81\n",
       "1181614 1.14e+12 00:02:2D:21:0F:33 20   8    0    316         00:14:bf:3b:c7:c6\n",
       "1181615 1.14e+12 00:02:2D:21:0F:33 20   8    0    316         00:0f:a3:39:e1:c0\n",
       "1181616 1.14e+12 00:02:2D:21:0F:33 20   8    0    316         00:14:bf:b1:97:8a\n",
       "1181617 1.14e+12 00:02:2D:21:0F:33 20   8    0    316         00:14:bf:b1:97:81\n",
       "1181618 1.14e+12 00:02:2D:21:0F:33 20   8    0    316         00:14:bf:b1:97:8d\n",
       "1181619 1.14e+12 00:02:2D:21:0F:33 20   8    0    316         00:0f:a3:39:dd:cd\n",
       "1181621 1.14e+12 00:02:2D:21:0F:33 20   8    0    316         00:14:bf:3b:c7:c6\n",
       "1181622 1.14e+12 00:02:2D:21:0F:33 20   8    0    316         00:0f:a3:39:e1:c0\n",
       "1181623 1.14e+12 00:02:2D:21:0F:33 20   8    0    316         00:14:bf:b1:97:8d\n",
       "1181624 1.14e+12 00:02:2D:21:0F:33 20   8    0    316         00:14:bf:b1:97:8a\n",
       "1181625 1.14e+12 00:02:2D:21:0F:33 20   8    0    316         00:14:bf:b1:97:81\n",
       "1181626 1.14e+12 00:02:2D:21:0F:33 20   8    0    316         00:14:bf:b1:97:90\n",
       "1181627 1.14e+12 00:02:2D:21:0F:33 20   8    0    316         00:0f:a3:39:dd:cd\n",
       "        signal\n",
       "1       -38   \n",
       "2       -56   \n",
       "3       -53   \n",
       "4       -65   \n",
       "5       -65   \n",
       "6       -66   \n",
       "7       -75   \n",
       "12      -38   \n",
       "13      -54   \n",
       "14      -56   \n",
       "15      -67   \n",
       "16      -66   \n",
       "17      -70   \n",
       "19      -73   \n",
       "22      -38   \n",
       "23      -54   \n",
       "24      -57   \n",
       "25      -66   \n",
       "26      -69   \n",
       "27      -70   \n",
       "30      -65   \n",
       "32      -38   \n",
       "33      -52   \n",
       "34      -54   \n",
       "35      -64   \n",
       "36      -68   \n",
       "37      -74   \n",
       "38      -78   \n",
       "43      -46   \n",
       "44      -55   \n",
       "⋮       ⋮     \n",
       "1181594 -56   \n",
       "1181595 -60   \n",
       "1181596 -69   \n",
       "1181597 -76   \n",
       "1181599 -53   \n",
       "1181600 -52   \n",
       "1181601 -62   \n",
       "1181602 -58   \n",
       "1181603 -61   \n",
       "1181604 -77   \n",
       "1181606 -54   \n",
       "1181607 -58   \n",
       "1181608 -56   \n",
       "1181609 -60   \n",
       "1181610 -69   \n",
       "1181611 -77   \n",
       "1181612 -62   \n",
       "1181614 -51   \n",
       "1181615 -53   \n",
       "1181616 -61   \n",
       "1181617 -60   \n",
       "1181618 -62   \n",
       "1181619 -77   \n",
       "1181621 -56   \n",
       "1181622 -53   \n",
       "1181623 -61   \n",
       "1181624 -60   \n",
       "1181625 -60   \n",
       "1181626 -68   \n",
       "1181627 -76   "
      ]
     },
     "metadata": {},
     "output_type": "display_data"
    }
   ],
   "source": [
    "offline"
   ]
  },
  {
   "cell_type": "code",
   "execution_count": null,
   "metadata": {
    "collapsed": true
   },
   "outputs": [],
   "source": [
    "library(lattice)\n",
    "bwplot(signal ~ factor(angle) | mac, data = offline, \n",
    "       subset = posX == 2 & posY == 12 \n",
    "                & mac != \"00:0f:a3:39:dd:cd\", \n",
    "       layout = c(2,3))\n",
    "\n",
    "par(oldPar)\n",
    "dev.off()"
   ]
  },
  {
   "cell_type": "code",
   "execution_count": null,
   "metadata": {},
   "outputs": [],
   "source": [
    "summary(offline$signal)\n",
    "\n",
    "pdf(file = \"Geo_DensitySignalByMacAngle.pdf\", width = 8, height = 12)\n",
    "oldPar = par(mar = c(3.1, 3, 1, 1))\n",
    "\n",
    "densityplot( ~ signal | mac + factor(angle), data = offline,\n",
    "             subset = posX == 24 & posY == 4 & \n",
    "                         mac != \"00:0f:a3:39:dd:cd\",\n",
    "             bw = 0.5, plot.points = FALSE)\n",
    "\n",
    "par(oldPar)\n",
    "dev.off()\n",
    "\n",
    "#offline = offline[ offline$mac != \"00:0f:a3:39:dd:cd\", ]\n",
    "\n",
    "offline$posXY = paste(offline$posX, offline$posY, sep = \"-\")\n",
    "\n",
    "byLocAngleAP = with(offline, \n",
    "                    by(offline, list(posXY, angle, mac), \n",
    "                       function(x) x))"
   ]
  },
  {
   "cell_type": "code",
   "execution_count": 22,
   "metadata": {
    "collapsed": true
   },
   "outputs": [],
   "source": [
    "signalSummary = \n",
    "  lapply(byLocAngleAP,            \n",
    "         function(oneLoc) {\n",
    "           ans = oneLoc[1, ]\n",
    "           ans$medSignal = median(oneLoc$signal)\n",
    "           ans$avgSignal = mean(oneLoc$signal)\n",
    "           ans$num = length(oneLoc$signal)\n",
    "           ans$sdSignal = sd(oneLoc$signal)\n",
    "           ans$iqrSignal = IQR(oneLoc$signal)\n",
    "           ans\n",
    "           })\n",
    "\n",
    "offlineSummary = do.call(\"rbind\", signalSummary) "
   ]
  },
  {
   "cell_type": "code",
   "execution_count": 23,
   "metadata": {},
   "outputs": [
    {
     "data": {},
     "metadata": {},
     "output_type": "display_data"
    },
    {
     "data": {
      "text/html": [
       "<strong>pdf:</strong> 2"
      ],
      "text/latex": [
       "\\textbf{pdf:} 2"
      ],
      "text/markdown": [
       "**pdf:** 2"
      ],
      "text/plain": [
       "pdf \n",
       "  2 "
      ]
     },
     "metadata": {},
     "output_type": "display_data"
    },
    {
     "data": {
      "text/html": [
       "<strong>pdf:</strong> 2"
      ],
      "text/latex": [
       "\\textbf{pdf:} 2"
      ],
      "text/markdown": [
       "**pdf:** 2"
      ],
      "text/plain": [
       "pdf \n",
       "  2 "
      ]
     },
     "metadata": {},
     "output_type": "display_data"
    }
   ],
   "source": [
    "pdf(file = \"Geo_BoxplotSignalSDByAvg.pdf\", width = 10)\n",
    "oldPar = par(mar = c(3.1, 3, 1, 1))\n",
    "\n",
    "breaks = seq(-90, -30, by = 5)\n",
    "bwplot(sdSignal ~ cut(avgSignal, breaks = breaks),\n",
    "       data = offlineSummary, \n",
    "       subset = mac != \"00:0f:a3:39:dd:cd\",\n",
    "       xlab = \"Mean Signal\", ylab = \"SD Signal\")\n",
    "\n",
    "par(oldPar)\n",
    "dev.off()\n",
    "\n",
    "pdf(file = \"Geo_ScatterMean-Median.pdf\", width = 10)\n",
    "oldPar = par(mar = c(4.1, 4.1, 1, 1))\n",
    "\n",
    "with(offlineSummary,\n",
    "     smoothScatter((avgSignal - medSignal) ~ num,\n",
    "                   xlab = \"Number of Observations\", \n",
    "                   ylab = \"mean - median\"))\n",
    "abline(h = 0, col = \"#984ea3\", lwd = 2)\n",
    "\n",
    "lo.obj = \n",
    "  with(offlineSummary,\n",
    "       loess(diff ~ num, \n",
    "             data = data.frame(diff = (avgSignal - medSignal),\n",
    "                               num = num)))\n",
    "\n",
    "lo.obj.pr = predict(lo.obj, newdata = data.frame(num = (70:120)))\n",
    "lines(x = 70:120, y = lo.obj.pr, col = \"#4daf4a\", lwd = 2)\n",
    "\n",
    "par(oldPar)\n",
    "dev.off()"
   ]
  },
  {
   "cell_type": "code",
   "execution_count": 25,
   "metadata": {},
   "outputs": [],
   "source": [
    "oneAPAngle = subset(offlineSummary, \n",
    "                    mac == subMacs[5] & angle == 0)\n",
    "\n",
    "\n"
   ]
  },
  {
   "cell_type": "code",
   "execution_count": 26,
   "metadata": {},
   "outputs": [
    {
     "ename": "ERROR",
     "evalue": "Error in library(fields): there is no package called ‘fields’\n",
     "output_type": "error",
     "traceback": [
      "Error in library(fields): there is no package called ‘fields’\nTraceback:\n",
      "1. library(fields)",
      "2. stop(txt, domain = NA)"
     ]
    }
   ],
   "source": [
    "library(fields)\n",
    "smoothSS = Tps(oneAPAngle[, c(\"posX\",\"posY\")], \n",
    "               oneAPAngle$avgSignal)\n",
    "\n",
    "vizSmooth = predictSurface(smoothSS)\n",
    "\n",
    "plot.surface(vizSmooth, type = \"C\")\n",
    "\n",
    "points(oneAPAngle$posX, oneAPAngle$posY, pch=19, cex = 0.5)"
   ]
  },
  {
   "cell_type": "code",
   "execution_count": null,
   "metadata": {
    "collapsed": true
   },
   "outputs": [],
   "source": []
  }
 ],
 "metadata": {
  "kernelspec": {
   "display_name": "R",
   "language": "R",
   "name": "ir"
  },
  "language_info": {
   "codemirror_mode": "r",
   "file_extension": ".r",
   "mimetype": "text/x-r-source",
   "name": "R",
   "pygments_lexer": "r",
   "version": "3.4.0"
  }
 },
 "nbformat": 4,
 "nbformat_minor": 2
}
